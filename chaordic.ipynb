{
 "cells": [
  {
   "cell_type": "code",
   "execution_count": 1,
   "metadata": {
    "collapsed": true
   },
   "outputs": [],
   "source": [
    "import sqlite3\n",
    "from sqlite3 import Error\n",
    "import pandas as pd\n",
    "import matplotlib.pyplot as plt; plt.rcdefaults()\n",
    "import seaborn as sns\n",
    "import numpy as np\n",
    "%matplotlib inline"
   ]
  },
  {
   "cell_type": "markdown",
   "metadata": {},
   "source": [
    "# Extract the files\n",
    "## cat part-* > clicks.gz\n",
    "## gunzip -c clicks.gz > clicks.json\n",
    "\n",
    "## cat part-* > transaction.gz\n",
    "## gunzip -c transaction.gz > transaction.json\n",
    "\n",
    "## cat part-* > impressions.gz\n",
    "## gunzip -c impressions.gz > impressions.json\n",
    "\n",
    "## cat part-* > clicks.gz\n",
    "## gunzip -c clicks.gz > clicks.json\n",
    "\n",
    "## Afterwards, the explore.py will be ran to create a charchic.db SQLite database. The file create_tables.sql will be used to create the SQL scheme. All data from the JSON files will be parsed and loaded up into the SQLite database."
   ]
  },
  {
   "cell_type": "markdown",
   "metadata": {},
   "source": [
    "# SQLlite connections and functions"
   ]
  },
  {
   "cell_type": "code",
   "execution_count": 574,
   "metadata": {
    "collapsed": true
   },
   "outputs": [],
   "source": [
    "#!python explore.py"
   ]
  },
  {
   "cell_type": "code",
   "execution_count": 2,
   "metadata": {
    "collapsed": true
   },
   "outputs": [],
   "source": [
    "def create_connection(db_file):\n",
    "    \"\"\" create a database connection to the SQLite database\n",
    "        specified by the db_file\n",
    "    :param db_file: database file\n",
    "    :return: Connection object or None\n",
    "    \"\"\"\n",
    "    try:\n",
    "        conn = sqlite3.connect(db_file)\n",
    "        return conn\n",
    "    except Error as e:\n",
    "        print(e)\n",
    " \n",
    "    return None"
   ]
  },
  {
   "cell_type": "code",
   "execution_count": 3,
   "metadata": {
    "collapsed": true
   },
   "outputs": [],
   "source": [
    "def make_select(conn,sqlCommand):\n",
    "    \"\"\"\n",
    "    Query all rows in the tasks table\n",
    "    :param conn: the Connection object\n",
    "    :return:\n",
    "    \"\"\"\n",
    "    cur = conn.cursor()\n",
    "    cur.execute(sqlCommand)\n",
    " \n",
    "    rows = cur.fetchall()\n",
    " \n",
    "    for row in rows:\n",
    "        print(row)"
   ]
  },
  {
   "cell_type": "code",
   "execution_count": 4,
   "metadata": {
    "collapsed": true
   },
   "outputs": [],
   "source": [
    "db_file = \"chaordic.db\"\n",
    "conn = create_connection(db_file)"
   ]
  },
  {
   "cell_type": "code",
   "execution_count": 5,
   "metadata": {},
   "outputs": [
    {
     "name": "stdout",
     "output_type": "stream",
     "text": [
      "(-8468716808217914046, -2946697713091517060, 99.99, 1)\n",
      "(103257389481310034, -7444430477752553485, 86.24, 1)\n",
      "(103257389481310034, -1593531750981905395, 29.99, 1)\n",
      "(103257389481310034, -1593531750981905395, 29.99, 1)\n",
      "(998471017524245573, -4553141046227747134, 154.9, 1)\n"
     ]
    }
   ],
   "source": [
    "# Test database conection\n",
    "make_select(conn, \"Select * From transactions_items Limit 5\")"
   ]
  },
  {
   "cell_type": "markdown",
   "metadata": {},
   "source": [
    "# Load up panda dataframes with SQL data."
   ]
  },
  {
   "cell_type": "code",
   "execution_count": 8,
   "metadata": {},
   "outputs": [
    {
     "data": {
      "text/plain": [
       "''"
      ]
     },
     "execution_count": 8,
     "metadata": {},
     "output_type": "execute_result"
    }
   ],
   "source": [
    "sqlLimit = 0 # it is for testing because the datasets are pretty large\n",
    "def RetSqlLimit(nameSource,limit):\n",
    "    if limit>0:\n",
    "        if nameSource=='pageviews':\n",
    "            return \" Limit \"+str(limit)\n",
    "        elif nameSource=='clicks':\n",
    "            return \" Limit \"+str(int(limit/25.67035848))\n",
    "        elif nameSource=='impressions':\n",
    "            return \" Limit \"+str(int(limit/1.177091993))\n",
    "        elif nameSource=='transactions':\n",
    "            return \" Limit \"+str(int(limit/278.1644851))\n",
    "    else:\n",
    "        return \"\"\n",
    "RetSqlLimit('impressions',sqlLimit)"
   ]
  },
  {
   "cell_type": "code",
   "execution_count": 9,
   "metadata": {
    "collapsed": true
   },
   "outputs": [],
   "source": [
    "clicks = pd.read_sql_query(\"SELECT * from clicks\"+RetSqlLimit(\"clicks\",sqlLimit), conn)\n",
    "clicks['group'] = clicks['ab'].apply(lambda x: x[:1])\n",
    "clicks['session'] = clicks['ab'].apply(lambda x: x[2:])"
   ]
  },
  {
   "cell_type": "code",
   "execution_count": 10,
   "metadata": {
    "collapsed": true
   },
   "outputs": [],
   "source": [
    "impressions = pd.read_sql_query(\"SELECT * from impressions\"+RetSqlLimit(\"impressions\",sqlLimit), conn)\n",
    "impressions_products = pd.read_sql_query(\"SELECT * from impressions_products\"+RetSqlLimit(\"impressions\",sqlLimit), conn)\n",
    "impressions['group'] = impressions['ab'].apply(lambda x: x[:1])\n",
    "impressions['session'] = impressions['ab'].apply(lambda x: x[2:])"
   ]
  },
  {
   "cell_type": "code",
   "execution_count": 11,
   "metadata": {
    "collapsed": true
   },
   "outputs": [],
   "source": [
    "pageviews = pd.read_sql_query(\"SELECT * from pageviews \"+RetSqlLimit(\"pageviews\",sqlLimit), conn)\n",
    "pageviews_tags = pd.read_sql_query(\"SELECT * from pageviews_tags \"+RetSqlLimit(\"pageviews\",sqlLimit), conn)\n",
    "pageviews['group'] = pageviews['ab'].apply(lambda x: x[:1])\n",
    "pageviews['session'] = pageviews['ab'].apply(lambda x: x[2:])"
   ]
  },
  {
   "cell_type": "code",
   "execution_count": 12,
   "metadata": {},
   "outputs": [
    {
     "data": {
      "text/html": [
       "<div>\n",
       "<style>\n",
       "    .dataframe thead tr:only-child th {\n",
       "        text-align: right;\n",
       "    }\n",
       "\n",
       "    .dataframe thead th {\n",
       "        text-align: left;\n",
       "    }\n",
       "\n",
       "    .dataframe tbody tr th {\n",
       "        vertical-align: top;\n",
       "    }\n",
       "</style>\n",
       "<table border=\"1\" class=\"dataframe\">\n",
       "  <thead>\n",
       "    <tr style=\"text-align: right;\">\n",
       "      <th></th>\n",
       "      <th>id</th>\n",
       "      <th>ab</th>\n",
       "      <th>items_total</th>\n",
       "      <th>total_quantity</th>\n",
       "      <th>group</th>\n",
       "      <th>session</th>\n",
       "    </tr>\n",
       "  </thead>\n",
       "  <tbody>\n",
       "    <tr>\n",
       "      <th>0</th>\n",
       "      <td>-9223185178483173395</td>\n",
       "      <td>E/585971731795584869</td>\n",
       "      <td>101.98</td>\n",
       "      <td>2</td>\n",
       "      <td>E</td>\n",
       "      <td>585971731795584869</td>\n",
       "    </tr>\n",
       "    <tr>\n",
       "      <th>1</th>\n",
       "      <td>-9222261015789277132</td>\n",
       "      <td>A/-5111293127490179813</td>\n",
       "      <td>305.99</td>\n",
       "      <td>1</td>\n",
       "      <td>A</td>\n",
       "      <td>-5111293127490179813</td>\n",
       "    </tr>\n",
       "    <tr>\n",
       "      <th>2</th>\n",
       "      <td>-9222187580537061584</td>\n",
       "      <td>F/2564340076839017376</td>\n",
       "      <td>229.99</td>\n",
       "      <td>1</td>\n",
       "      <td>F</td>\n",
       "      <td>2564340076839017376</td>\n",
       "    </tr>\n",
       "    <tr>\n",
       "      <th>3</th>\n",
       "      <td>-9222181048618470236</td>\n",
       "      <td>D/-7976297778178387230</td>\n",
       "      <td>174.24</td>\n",
       "      <td>1</td>\n",
       "      <td>D</td>\n",
       "      <td>-7976297778178387230</td>\n",
       "    </tr>\n",
       "    <tr>\n",
       "      <th>4</th>\n",
       "      <td>-9221908979709112875</td>\n",
       "      <td>B/-2679500769807275555</td>\n",
       "      <td>99.58</td>\n",
       "      <td>2</td>\n",
       "      <td>B</td>\n",
       "      <td>-2679500769807275555</td>\n",
       "    </tr>\n",
       "  </tbody>\n",
       "</table>\n",
       "</div>"
      ],
      "text/plain": [
       "                    id                      ab  items_total  total_quantity  \\\n",
       "0 -9223185178483173395    E/585971731795584869       101.98               2   \n",
       "1 -9222261015789277132  A/-5111293127490179813       305.99               1   \n",
       "2 -9222187580537061584   F/2564340076839017376       229.99               1   \n",
       "3 -9222181048618470236  D/-7976297778178387230       174.24               1   \n",
       "4 -9221908979709112875  B/-2679500769807275555        99.58               2   \n",
       "\n",
       "  group               session  \n",
       "0     E    585971731795584869  \n",
       "1     A  -5111293127490179813  \n",
       "2     F   2564340076839017376  \n",
       "3     D  -7976297778178387230  \n",
       "4     B  -2679500769807275555  "
      ]
     },
     "execution_count": 12,
     "metadata": {},
     "output_type": "execute_result"
    }
   ],
   "source": [
    "sqlText = '''\n",
    "Select a.id,a.ab, sum(items_price*items_quantity) as items_total, sum(items_quantity) as total_quantity\n",
    "  From transactions a, transactions_items b\n",
    " Where a.id = b.id\n",
    " Group By a.id, a.ab\n",
    "''' + RetSqlLimit(\"transactions\",sqlLimit)\n",
    "\n",
    "transactions = pd.read_sql_query(sqlText, conn)\n",
    "transactions_items = pd.read_sql_query(\"SELECT * from transactions_items \"+RetSqlLimit(\"transactions\",sqlLimit), conn)\n",
    "transactions['group'] = transactions['ab'].apply(lambda x: x[:1])\n",
    "transactions['session'] = transactions['ab'].apply(lambda x: x[2:])\n",
    "transactions_items['items_total'] = transactions_items['items_price']*transactions_items['items_quantity']\n",
    "\n",
    "transactions.head(5)"
   ]
  },
  {
   "cell_type": "code",
   "execution_count": 13,
   "metadata": {},
   "outputs": [
    {
     "name": "stdout",
     "output_type": "stream",
     "text": [
      "clicks 1183002\n",
      "impressions 25798767\n",
      "impressions_products 70660912\n",
      "pageviews 30367518\n",
      "pageviews_tags 156979276\n",
      "transactions 109194\n",
      "transactions_items 179431\n"
     ]
    }
   ],
   "source": [
    "print(\"clicks\", len(clicks))\n",
    "print(\"impressions\", len(impressions))\n",
    "print(\"impressions_products\", len(impressions_products))\n",
    "print(\"pageviews\", len(pageviews))\n",
    "print(\"pageviews_tags\", len(pageviews_tags))\n",
    "print(\"transactions\", len(transactions))\n",
    "print(\"transactions_items\", len(transactions_items))"
   ]
  },
  {
   "cell_type": "code",
   "execution_count": 14,
   "metadata": {},
   "outputs": [
    {
     "data": {
      "text/html": [
       "<div>\n",
       "<style>\n",
       "    .dataframe thead tr:only-child th {\n",
       "        text-align: right;\n",
       "    }\n",
       "\n",
       "    .dataframe thead th {\n",
       "        text-align: left;\n",
       "    }\n",
       "\n",
       "    .dataframe tbody tr th {\n",
       "        vertical-align: top;\n",
       "    }\n",
       "</style>\n",
       "<table border=\"1\" class=\"dataframe\">\n",
       "  <thead>\n",
       "    <tr style=\"text-align: right;\">\n",
       "      <th></th>\n",
       "      <th>type</th>\n",
       "      <th>feature</th>\n",
       "      <th>vrlId</th>\n",
       "      <th>id</th>\n",
       "      <th>info_browserId</th>\n",
       "      <th>info_browser</th>\n",
       "      <th>info_os</th>\n",
       "      <th>info_geoIPLongitude</th>\n",
       "      <th>info_geoIPLatitude</th>\n",
       "      <th>info_source</th>\n",
       "      <th>ab</th>\n",
       "      <th>page</th>\n",
       "      <th>algRef</th>\n",
       "      <th>my_id</th>\n",
       "      <th>timestamp</th>\n",
       "      <th>group</th>\n",
       "      <th>session</th>\n",
       "    </tr>\n",
       "  </thead>\n",
       "  <tbody>\n",
       "    <tr>\n",
       "      <th>0</th>\n",
       "      <td>viewreclog</td>\n",
       "      <td>-7828424103269057573</td>\n",
       "      <td>8765249957191</td>\n",
       "      <td>8765249957191</td>\n",
       "      <td>2077291510979737164</td>\n",
       "      <td>Chrome Mobile 59.0.3071</td>\n",
       "      <td>Android 4.4.2</td>\n",
       "      <td>-43.2192</td>\n",
       "      <td>-22.8305</td>\n",
       "      <td>mobile</td>\n",
       "      <td>G/7849515658654400358</td>\n",
       "      <td>product</td>\n",
       "      <td>5321418768591000592</td>\n",
       "      <td>1</td>\n",
       "      <td>2017-08-26 00:05:22</td>\n",
       "      <td>G</td>\n",
       "      <td>7849515658654400358</td>\n",
       "    </tr>\n",
       "    <tr>\n",
       "      <th>1</th>\n",
       "      <td>viewreclog</td>\n",
       "      <td>5603092165415881620</td>\n",
       "      <td>8765249957191</td>\n",
       "      <td>8765249957191</td>\n",
       "      <td>-5794300198289426830</td>\n",
       "      <td>Chrome Mobile 58.0.3029</td>\n",
       "      <td>Android 4.3</td>\n",
       "      <td>-46.6658</td>\n",
       "      <td>-23.4733</td>\n",
       "      <td>mobile</td>\n",
       "      <td>E/-9206771770294839467</td>\n",
       "      <td>search</td>\n",
       "      <td>8765249957191</td>\n",
       "      <td>2</td>\n",
       "      <td>2017-08-26 00:05:22</td>\n",
       "      <td>E</td>\n",
       "      <td>-9206771770294839467</td>\n",
       "    </tr>\n",
       "  </tbody>\n",
       "</table>\n",
       "</div>"
      ],
      "text/plain": [
       "         type              feature          vrlId             id  \\\n",
       "0  viewreclog -7828424103269057573  8765249957191  8765249957191   \n",
       "1  viewreclog  5603092165415881620  8765249957191  8765249957191   \n",
       "\n",
       "        info_browserId             info_browser        info_os  \\\n",
       "0  2077291510979737164  Chrome Mobile 59.0.3071  Android 4.4.2   \n",
       "1 -5794300198289426830  Chrome Mobile 58.0.3029    Android 4.3   \n",
       "\n",
       "   info_geoIPLongitude  info_geoIPLatitude info_source  \\\n",
       "0             -43.2192            -22.8305      mobile   \n",
       "1             -46.6658            -23.4733      mobile   \n",
       "\n",
       "                       ab     page               algRef  my_id  \\\n",
       "0   G/7849515658654400358  product  5321418768591000592      1   \n",
       "1  E/-9206771770294839467   search        8765249957191      2   \n",
       "\n",
       "             timestamp group               session  \n",
       "0  2017-08-26 00:05:22     G   7849515658654400358  \n",
       "1  2017-08-26 00:05:22     E  -9206771770294839467  "
      ]
     },
     "execution_count": 14,
     "metadata": {},
     "output_type": "execute_result"
    }
   ],
   "source": [
    "impressions.head(2)"
   ]
  },
  {
   "cell_type": "code",
   "execution_count": 15,
   "metadata": {},
   "outputs": [
    {
     "name": "stdout",
     "output_type": "stream",
     "text": [
      "<class 'pandas.core.frame.DataFrame'>\n",
      "RangeIndex: 25798767 entries, 0 to 25798766\n",
      "Data columns (total 17 columns):\n",
      "type                   object\n",
      "feature                int64\n",
      "vrlId                  int64\n",
      "id                     int64\n",
      "info_browserId         int64\n",
      "info_browser           object\n",
      "info_os                object\n",
      "info_geoIPLongitude    float64\n",
      "info_geoIPLatitude     float64\n",
      "info_source            object\n",
      "ab                     object\n",
      "page                   object\n",
      "algRef                 int64\n",
      "my_id                  int64\n",
      "timestamp              object\n",
      "group                  object\n",
      "session                object\n",
      "dtypes: float64(2), int64(6), object(9)\n",
      "memory usage: 3.3+ GB\n"
     ]
    }
   ],
   "source": [
    "impressions.info()"
   ]
  },
  {
   "cell_type": "code",
   "execution_count": 16,
   "metadata": {},
   "outputs": [
    {
     "data": {
      "text/html": [
       "<div>\n",
       "<style>\n",
       "    .dataframe thead tr:only-child th {\n",
       "        text-align: right;\n",
       "    }\n",
       "\n",
       "    .dataframe thead th {\n",
       "        text-align: left;\n",
       "    }\n",
       "\n",
       "    .dataframe tbody tr th {\n",
       "        vertical-align: top;\n",
       "    }\n",
       "</style>\n",
       "<table border=\"1\" class=\"dataframe\">\n",
       "  <thead>\n",
       "    <tr style=\"text-align: right;\">\n",
       "      <th></th>\n",
       "      <th>my_id</th>\n",
       "      <th>products</th>\n",
       "    </tr>\n",
       "  </thead>\n",
       "  <tbody>\n",
       "    <tr>\n",
       "      <th>0</th>\n",
       "      <td>1</td>\n",
       "      <td>3653391013242405988</td>\n",
       "    </tr>\n",
       "    <tr>\n",
       "      <th>1</th>\n",
       "      <td>1</td>\n",
       "      <td>3492582560532754791</td>\n",
       "    </tr>\n",
       "  </tbody>\n",
       "</table>\n",
       "</div>"
      ],
      "text/plain": [
       "   my_id             products\n",
       "0      1  3653391013242405988\n",
       "1      1  3492582560532754791"
      ]
     },
     "execution_count": 16,
     "metadata": {},
     "output_type": "execute_result"
    }
   ],
   "source": [
    "impressions_products.head(2)"
   ]
  },
  {
   "cell_type": "code",
   "execution_count": 17,
   "metadata": {},
   "outputs": [
    {
     "name": "stdout",
     "output_type": "stream",
     "text": [
      "<class 'pandas.core.frame.DataFrame'>\n",
      "RangeIndex: 70660912 entries, 0 to 70660911\n",
      "Data columns (total 2 columns):\n",
      "my_id       int64\n",
      "products    int64\n",
      "dtypes: int64(2)\n",
      "memory usage: 1.1 GB\n"
     ]
    }
   ],
   "source": [
    "impressions_products.info()"
   ]
  },
  {
   "cell_type": "code",
   "execution_count": 18,
   "metadata": {},
   "outputs": [
    {
     "data": {
      "text/html": [
       "<div>\n",
       "<style>\n",
       "    .dataframe thead tr:only-child th {\n",
       "        text-align: right;\n",
       "    }\n",
       "\n",
       "    .dataframe thead th {\n",
       "        text-align: left;\n",
       "    }\n",
       "\n",
       "    .dataframe tbody tr th {\n",
       "        vertical-align: top;\n",
       "    }\n",
       "</style>\n",
       "<table border=\"1\" class=\"dataframe\">\n",
       "  <thead>\n",
       "    <tr style=\"text-align: right;\">\n",
       "      <th></th>\n",
       "      <th>type</th>\n",
       "      <th>name</th>\n",
       "      <th>id</th>\n",
       "      <th>info_browserId</th>\n",
       "      <th>info_browser</th>\n",
       "      <th>info_os</th>\n",
       "      <th>info_geoIPLongitude</th>\n",
       "      <th>info_geoIPLatitude</th>\n",
       "      <th>info_source</th>\n",
       "      <th>ab</th>\n",
       "      <th>my_id</th>\n",
       "      <th>timestamp</th>\n",
       "      <th>group</th>\n",
       "      <th>session</th>\n",
       "    </tr>\n",
       "  </thead>\n",
       "  <tbody>\n",
       "    <tr>\n",
       "      <th>0</th>\n",
       "      <td>page</td>\n",
       "      <td>category</td>\n",
       "      <td>8765249957191</td>\n",
       "      <td>-8901737309149095989</td>\n",
       "      <td>Firefox Beta 4.0 b12</td>\n",
       "      <td>Linux</td>\n",
       "      <td>None</td>\n",
       "      <td>None</td>\n",
       "      <td>desktop</td>\n",
       "      <td>F/-4674034584350596422</td>\n",
       "      <td>25798768</td>\n",
       "      <td>2017-08-26 12:18:26</td>\n",
       "      <td>F</td>\n",
       "      <td>-4674034584350596422</td>\n",
       "    </tr>\n",
       "    <tr>\n",
       "      <th>1</th>\n",
       "      <td>page</td>\n",
       "      <td>category</td>\n",
       "      <td>8765249957191</td>\n",
       "      <td>-6952411218239337506</td>\n",
       "      <td>Chrome Mobile 59.0.3071</td>\n",
       "      <td>Android 5.1.1</td>\n",
       "      <td>None</td>\n",
       "      <td>None</td>\n",
       "      <td>mobile</td>\n",
       "      <td>F/-3370818432877482132</td>\n",
       "      <td>25798769</td>\n",
       "      <td>2017-08-26 12:18:26</td>\n",
       "      <td>F</td>\n",
       "      <td>-3370818432877482132</td>\n",
       "    </tr>\n",
       "  </tbody>\n",
       "</table>\n",
       "</div>"
      ],
      "text/plain": [
       "   type      name             id       info_browserId  \\\n",
       "0  page  category  8765249957191 -8901737309149095989   \n",
       "1  page  category  8765249957191 -6952411218239337506   \n",
       "\n",
       "              info_browser        info_os info_geoIPLongitude  \\\n",
       "0     Firefox Beta 4.0 b12          Linux                None   \n",
       "1  Chrome Mobile 59.0.3071  Android 5.1.1                None   \n",
       "\n",
       "  info_geoIPLatitude info_source                      ab     my_id  \\\n",
       "0               None     desktop  F/-4674034584350596422  25798768   \n",
       "1               None      mobile  F/-3370818432877482132  25798769   \n",
       "\n",
       "             timestamp group               session  \n",
       "0  2017-08-26 12:18:26     F  -4674034584350596422  \n",
       "1  2017-08-26 12:18:26     F  -3370818432877482132  "
      ]
     },
     "execution_count": 18,
     "metadata": {},
     "output_type": "execute_result"
    }
   ],
   "source": [
    "pageviews.head(2)"
   ]
  },
  {
   "cell_type": "code",
   "execution_count": 19,
   "metadata": {},
   "outputs": [
    {
     "name": "stdout",
     "output_type": "stream",
     "text": [
      "<class 'pandas.core.frame.DataFrame'>\n",
      "RangeIndex: 30367518 entries, 0 to 30367517\n",
      "Data columns (total 14 columns):\n",
      "type                   object\n",
      "name                   object\n",
      "id                     int64\n",
      "info_browserId         int64\n",
      "info_browser           object\n",
      "info_os                object\n",
      "info_geoIPLongitude    object\n",
      "info_geoIPLatitude     object\n",
      "info_source            object\n",
      "ab                     object\n",
      "my_id                  int64\n",
      "timestamp              object\n",
      "group                  object\n",
      "session                object\n",
      "dtypes: int64(3), object(11)\n",
      "memory usage: 3.2+ GB\n"
     ]
    }
   ],
   "source": [
    "pageviews.info()"
   ]
  },
  {
   "cell_type": "code",
   "execution_count": 20,
   "metadata": {},
   "outputs": [
    {
     "data": {
      "text/html": [
       "<div>\n",
       "<style>\n",
       "    .dataframe thead tr:only-child th {\n",
       "        text-align: right;\n",
       "    }\n",
       "\n",
       "    .dataframe thead th {\n",
       "        text-align: left;\n",
       "    }\n",
       "\n",
       "    .dataframe tbody tr th {\n",
       "        vertical-align: top;\n",
       "    }\n",
       "</style>\n",
       "<table border=\"1\" class=\"dataframe\">\n",
       "  <thead>\n",
       "    <tr style=\"text-align: right;\">\n",
       "      <th></th>\n",
       "      <th>my_id</th>\n",
       "      <th>tags</th>\n",
       "    </tr>\n",
       "  </thead>\n",
       "  <tbody>\n",
       "    <tr>\n",
       "      <th>0</th>\n",
       "      <td>25798768</td>\n",
       "      <td>-5990677861896497487</td>\n",
       "    </tr>\n",
       "    <tr>\n",
       "      <th>1</th>\n",
       "      <td>25798768</td>\n",
       "      <td>-5075272788001827571</td>\n",
       "    </tr>\n",
       "  </tbody>\n",
       "</table>\n",
       "</div>"
      ],
      "text/plain": [
       "      my_id                 tags\n",
       "0  25798768 -5990677861896497487\n",
       "1  25798768 -5075272788001827571"
      ]
     },
     "execution_count": 20,
     "metadata": {},
     "output_type": "execute_result"
    }
   ],
   "source": [
    "pageviews_tags.head(2)"
   ]
  },
  {
   "cell_type": "code",
   "execution_count": 21,
   "metadata": {},
   "outputs": [
    {
     "name": "stdout",
     "output_type": "stream",
     "text": [
      "<class 'pandas.core.frame.DataFrame'>\n",
      "RangeIndex: 156979276 entries, 0 to 156979275\n",
      "Data columns (total 2 columns):\n",
      "my_id    int64\n",
      "tags     int64\n",
      "dtypes: int64(2)\n",
      "memory usage: 2.3 GB\n"
     ]
    }
   ],
   "source": [
    "pageviews_tags.info()"
   ]
  },
  {
   "cell_type": "code",
   "execution_count": 22,
   "metadata": {},
   "outputs": [
    {
     "data": {
      "text/html": [
       "<div>\n",
       "<style>\n",
       "    .dataframe thead tr:only-child th {\n",
       "        text-align: right;\n",
       "    }\n",
       "\n",
       "    .dataframe thead th {\n",
       "        text-align: left;\n",
       "    }\n",
       "\n",
       "    .dataframe tbody tr th {\n",
       "        vertical-align: top;\n",
       "    }\n",
       "</style>\n",
       "<table border=\"1\" class=\"dataframe\">\n",
       "  <thead>\n",
       "    <tr style=\"text-align: right;\">\n",
       "      <th></th>\n",
       "      <th>type</th>\n",
       "      <th>feature</th>\n",
       "      <th>vrlId</th>\n",
       "      <th>product</th>\n",
       "      <th>id</th>\n",
       "      <th>info_browserId</th>\n",
       "      <th>info_browser</th>\n",
       "      <th>info_os</th>\n",
       "      <th>info_geoIPLongitude</th>\n",
       "      <th>info_geoIPLatitude</th>\n",
       "      <th>info_source</th>\n",
       "      <th>ab</th>\n",
       "      <th>page</th>\n",
       "      <th>timestamp</th>\n",
       "      <th>group</th>\n",
       "      <th>session</th>\n",
       "    </tr>\n",
       "  </thead>\n",
       "  <tbody>\n",
       "    <tr>\n",
       "      <th>0</th>\n",
       "      <td>clicklog</td>\n",
       "      <td>2406596896456549791</td>\n",
       "      <td>-8377820109229386856</td>\n",
       "      <td>6952869018143429188</td>\n",
       "      <td>8765249957191</td>\n",
       "      <td>1865329336598195445</td>\n",
       "      <td>Chrome 60.0.3112</td>\n",
       "      <td>Windows</td>\n",
       "      <td>-122.3341</td>\n",
       "      <td>47.6103</td>\n",
       "      <td>desktop</td>\n",
       "      <td>A/-2433577766061835784</td>\n",
       "      <td>category</td>\n",
       "      <td>2017-09-13 12:58:08</td>\n",
       "      <td>A</td>\n",
       "      <td>-2433577766061835784</td>\n",
       "    </tr>\n",
       "    <tr>\n",
       "      <th>1</th>\n",
       "      <td>clicklog</td>\n",
       "      <td>-7828424103269057573</td>\n",
       "      <td>6627298913942488713</td>\n",
       "      <td>-5138915283570447380</td>\n",
       "      <td>8765249957191</td>\n",
       "      <td>3258854675349784616</td>\n",
       "      <td>Chrome Mobile 56.0.2924</td>\n",
       "      <td>Android 6.0.1</td>\n",
       "      <td>-122.3422</td>\n",
       "      <td>47.6344</td>\n",
       "      <td>mobile</td>\n",
       "      <td>A/-621823323795459513</td>\n",
       "      <td>product</td>\n",
       "      <td>2017-09-13 12:08:00</td>\n",
       "      <td>A</td>\n",
       "      <td>-621823323795459513</td>\n",
       "    </tr>\n",
       "  </tbody>\n",
       "</table>\n",
       "</div>"
      ],
      "text/plain": [
       "       type              feature                vrlId              product  \\\n",
       "0  clicklog  2406596896456549791 -8377820109229386856  6952869018143429188   \n",
       "1  clicklog -7828424103269057573  6627298913942488713 -5138915283570447380   \n",
       "\n",
       "              id       info_browserId             info_browser        info_os  \\\n",
       "0  8765249957191  1865329336598195445         Chrome 60.0.3112        Windows   \n",
       "1  8765249957191  3258854675349784616  Chrome Mobile 56.0.2924  Android 6.0.1   \n",
       "\n",
       "   info_geoIPLongitude  info_geoIPLatitude info_source  \\\n",
       "0            -122.3341             47.6103     desktop   \n",
       "1            -122.3422             47.6344      mobile   \n",
       "\n",
       "                       ab      page            timestamp group  \\\n",
       "0  A/-2433577766061835784  category  2017-09-13 12:58:08     A   \n",
       "1   A/-621823323795459513   product  2017-09-13 12:08:00     A   \n",
       "\n",
       "                session  \n",
       "0  -2433577766061835784  \n",
       "1   -621823323795459513  "
      ]
     },
     "execution_count": 22,
     "metadata": {},
     "output_type": "execute_result"
    }
   ],
   "source": [
    "clicks.head(2)"
   ]
  },
  {
   "cell_type": "code",
   "execution_count": 23,
   "metadata": {},
   "outputs": [
    {
     "name": "stdout",
     "output_type": "stream",
     "text": [
      "<class 'pandas.core.frame.DataFrame'>\n",
      "RangeIndex: 1183002 entries, 0 to 1183001\n",
      "Data columns (total 16 columns):\n",
      "type                   1183002 non-null object\n",
      "feature                1183002 non-null int64\n",
      "vrlId                  1183002 non-null int64\n",
      "product                1183002 non-null int64\n",
      "id                     1183002 non-null int64\n",
      "info_browserId         1183002 non-null int64\n",
      "info_browser           1183002 non-null object\n",
      "info_os                1183002 non-null object\n",
      "info_geoIPLongitude    1163744 non-null float64\n",
      "info_geoIPLatitude     1163744 non-null float64\n",
      "info_source            1182991 non-null object\n",
      "ab                     1183002 non-null object\n",
      "page                   1183002 non-null object\n",
      "timestamp              1183002 non-null object\n",
      "group                  1183002 non-null object\n",
      "session                1183002 non-null object\n",
      "dtypes: float64(2), int64(5), object(9)\n",
      "memory usage: 144.4+ MB\n"
     ]
    }
   ],
   "source": [
    "clicks.info()"
   ]
  },
  {
   "cell_type": "code",
   "execution_count": 24,
   "metadata": {},
   "outputs": [
    {
     "data": {
      "text/html": [
       "<div>\n",
       "<style>\n",
       "    .dataframe thead tr:only-child th {\n",
       "        text-align: right;\n",
       "    }\n",
       "\n",
       "    .dataframe thead th {\n",
       "        text-align: left;\n",
       "    }\n",
       "\n",
       "    .dataframe tbody tr th {\n",
       "        vertical-align: top;\n",
       "    }\n",
       "</style>\n",
       "<table border=\"1\" class=\"dataframe\">\n",
       "  <thead>\n",
       "    <tr style=\"text-align: right;\">\n",
       "      <th></th>\n",
       "      <th>id</th>\n",
       "      <th>ab</th>\n",
       "      <th>items_total</th>\n",
       "      <th>total_quantity</th>\n",
       "      <th>group</th>\n",
       "      <th>session</th>\n",
       "    </tr>\n",
       "  </thead>\n",
       "  <tbody>\n",
       "    <tr>\n",
       "      <th>0</th>\n",
       "      <td>-9223185178483173395</td>\n",
       "      <td>E/585971731795584869</td>\n",
       "      <td>101.98</td>\n",
       "      <td>2</td>\n",
       "      <td>E</td>\n",
       "      <td>585971731795584869</td>\n",
       "    </tr>\n",
       "    <tr>\n",
       "      <th>1</th>\n",
       "      <td>-9222261015789277132</td>\n",
       "      <td>A/-5111293127490179813</td>\n",
       "      <td>305.99</td>\n",
       "      <td>1</td>\n",
       "      <td>A</td>\n",
       "      <td>-5111293127490179813</td>\n",
       "    </tr>\n",
       "  </tbody>\n",
       "</table>\n",
       "</div>"
      ],
      "text/plain": [
       "                    id                      ab  items_total  total_quantity  \\\n",
       "0 -9223185178483173395    E/585971731795584869       101.98               2   \n",
       "1 -9222261015789277132  A/-5111293127490179813       305.99               1   \n",
       "\n",
       "  group               session  \n",
       "0     E    585971731795584869  \n",
       "1     A  -5111293127490179813  "
      ]
     },
     "execution_count": 24,
     "metadata": {},
     "output_type": "execute_result"
    }
   ],
   "source": [
    "transactions.head(2)"
   ]
  },
  {
   "cell_type": "code",
   "execution_count": 25,
   "metadata": {},
   "outputs": [
    {
     "name": "stdout",
     "output_type": "stream",
     "text": [
      "<class 'pandas.core.frame.DataFrame'>\n",
      "RangeIndex: 109194 entries, 0 to 109193\n",
      "Data columns (total 6 columns):\n",
      "id                109194 non-null int64\n",
      "ab                109194 non-null object\n",
      "items_total       109194 non-null float64\n",
      "total_quantity    109194 non-null int64\n",
      "group             109194 non-null object\n",
      "session           109194 non-null object\n",
      "dtypes: float64(1), int64(2), object(3)\n",
      "memory usage: 5.0+ MB\n"
     ]
    }
   ],
   "source": [
    "transactions.info()"
   ]
  },
  {
   "cell_type": "code",
   "execution_count": 26,
   "metadata": {},
   "outputs": [
    {
     "data": {
      "text/html": [
       "<div>\n",
       "<style>\n",
       "    .dataframe thead tr:only-child th {\n",
       "        text-align: right;\n",
       "    }\n",
       "\n",
       "    .dataframe thead th {\n",
       "        text-align: left;\n",
       "    }\n",
       "\n",
       "    .dataframe tbody tr th {\n",
       "        vertical-align: top;\n",
       "    }\n",
       "</style>\n",
       "<table border=\"1\" class=\"dataframe\">\n",
       "  <thead>\n",
       "    <tr style=\"text-align: right;\">\n",
       "      <th></th>\n",
       "      <th>id</th>\n",
       "      <th>items_id</th>\n",
       "      <th>items_price</th>\n",
       "      <th>items_quantity</th>\n",
       "      <th>items_total</th>\n",
       "    </tr>\n",
       "  </thead>\n",
       "  <tbody>\n",
       "    <tr>\n",
       "      <th>0</th>\n",
       "      <td>-8468716808217914046</td>\n",
       "      <td>-2946697713091517060</td>\n",
       "      <td>99.99</td>\n",
       "      <td>1</td>\n",
       "      <td>99.99</td>\n",
       "    </tr>\n",
       "    <tr>\n",
       "      <th>1</th>\n",
       "      <td>103257389481310034</td>\n",
       "      <td>-7444430477752553485</td>\n",
       "      <td>86.24</td>\n",
       "      <td>1</td>\n",
       "      <td>86.24</td>\n",
       "    </tr>\n",
       "  </tbody>\n",
       "</table>\n",
       "</div>"
      ],
      "text/plain": [
       "                    id             items_id  items_price  items_quantity  \\\n",
       "0 -8468716808217914046 -2946697713091517060        99.99               1   \n",
       "1   103257389481310034 -7444430477752553485        86.24               1   \n",
       "\n",
       "   items_total  \n",
       "0        99.99  \n",
       "1        86.24  "
      ]
     },
     "execution_count": 26,
     "metadata": {},
     "output_type": "execute_result"
    }
   ],
   "source": [
    "transactions_items.head(2)"
   ]
  },
  {
   "cell_type": "code",
   "execution_count": 27,
   "metadata": {},
   "outputs": [
    {
     "name": "stdout",
     "output_type": "stream",
     "text": [
      "<class 'pandas.core.frame.DataFrame'>\n",
      "RangeIndex: 179431 entries, 0 to 179430\n",
      "Data columns (total 5 columns):\n",
      "id                179431 non-null int64\n",
      "items_id          179431 non-null int64\n",
      "items_price       179431 non-null float64\n",
      "items_quantity    179431 non-null int64\n",
      "items_total       179431 non-null float64\n",
      "dtypes: float64(2), int64(3)\n",
      "memory usage: 6.8 MB\n"
     ]
    }
   ],
   "source": [
    "transactions_items.info()"
   ]
  },
  {
   "cell_type": "code",
   "execution_count": 28,
   "metadata": {},
   "outputs": [
    {
     "data": {
      "text/plain": [
       "count    109194.000000\n",
       "mean        189.652729\n",
       "std         404.528557\n",
       "min           0.950000\n",
       "25%          83.990000\n",
       "50%         134.990000\n",
       "75%         219.990000\n",
       "max       78399.950000\n",
       "Name: items_total, dtype: float64"
      ]
     },
     "execution_count": 28,
     "metadata": {},
     "output_type": "execute_result"
    }
   ],
   "source": [
    "# Checking out statistics for transaction order\n",
    "transactions['items_total'].describe()"
   ]
  },
  {
   "cell_type": "markdown",
   "metadata": {},
   "source": [
    "# Page Views schema"
   ]
  },
  {
   "cell_type": "code",
   "execution_count": null,
   "metadata": {
    "collapsed": true
   },
   "outputs": [],
   "source": [
    "{\n",
    "    'ab': 'F/-4674034584350596422', # group/session\n",
    "    'id': 8765249957191, # unique pageView id\n",
    "    'info': {\n",
    "        'browser': 'Firefox Beta 4.0 b12', # browser model\n",
    "        'browserId': -8901737309149095989, # unique browser id (think of this as a user id)\n",
    "        'geoIPLatitude': None, # latitude reported by the browser\n",
    "        'geoIPLongitude': None, # longitude reported by the browser\n",
    "        'os': 'Linux', # operating system\n",
    "        'source': 'desktop' # type of device (desktop or mobile)\n",
    "    },\n",
    "    'name': 'category', # type of page where click happened\n",
    "    'tags': [-5990677861896497487, -5075272788001827571], # special tags set by our customers for each page.\n",
    "    'timestamp': '2017-08-26 12:18:26', # event time\n",
    "    'type': 'page' # type of event\n",
    "}"
   ]
  },
  {
   "cell_type": "markdown",
   "metadata": {},
   "source": [
    "# it is being created a new data frame for holding visitor data. It was considered the feature session. "
   ]
  },
  {
   "cell_type": "code",
   "execution_count": 29,
   "metadata": {
    "collapsed": true
   },
   "outputs": [],
   "source": [
    "#visitors = pageviews[['session','info_browserId','info_browser','info_os','info_source','timestamp']][:]\n",
    "#visitors = pageviews[['session','info_browserId','timestamp']][:]\n",
    "#visitors = pageviews[['group','session','timestamp']][:]\n",
    "visitors = pageviews[['group','session','info_browserId','info_browser','info_os','info_source']][:]\n",
    "#visitors['date'] = visitors['timestamp'].apply(lambda x: x[:10])\n",
    "#del visitors['timestamp']\n",
    "\n",
    "def first_word(string):\n",
    "    pos = string.find(' ')\n",
    "    if pos>=0:\n",
    "        return string[:pos]\n",
    "    else:\n",
    "        return string\n",
    "\n",
    "visitors['os'] = visitors['info_os'].apply(first_word)\n",
    "visitors['browser'] = visitors['info_browser'].apply(first_word)\n",
    "\n",
    "visitors = visitors.drop_duplicates()"
   ]
  },
  {
   "cell_type": "code",
   "execution_count": 34,
   "metadata": {},
   "outputs": [
    {
     "name": "stdout",
     "output_type": "stream",
     "text": [
      "There 30367518 rows in page views and 3845964 rows in the visitors, using unique visitors by day\n",
      "Therefore, we've got 7.9 pageviews by visitor\n",
      "The number of visitors above should be 3727520 but there is something wrong in the data \n"
     ]
    }
   ],
   "source": [
    "print (\"There {} rows in page views and {} rows in the visitors, using unique visitors by day\".format(len(pageviews),len(visitors))) \n",
    "print (\"Therefore, we've got {} pageviews by visitor\".format(round(len(pageviews)/len(visitors),2)))\n",
    "print (\"The number of visitors above should be {} but there is something wrong in the data \".format(len(pageviews.session.unique())))"
   ]
  },
  {
   "cell_type": "code",
   "execution_count": 35,
   "metadata": {},
   "outputs": [
    {
     "data": {
      "text/html": [
       "<div>\n",
       "<style>\n",
       "    .dataframe thead tr:only-child th {\n",
       "        text-align: right;\n",
       "    }\n",
       "\n",
       "    .dataframe thead th {\n",
       "        text-align: left;\n",
       "    }\n",
       "\n",
       "    .dataframe tbody tr th {\n",
       "        vertical-align: top;\n",
       "    }\n",
       "</style>\n",
       "<table border=\"1\" class=\"dataframe\">\n",
       "  <thead>\n",
       "    <tr style=\"text-align: right;\">\n",
       "      <th></th>\n",
       "      <th>group</th>\n",
       "      <th>session</th>\n",
       "      <th>info_browserId</th>\n",
       "      <th>info_browser</th>\n",
       "      <th>info_os</th>\n",
       "      <th>info_source</th>\n",
       "      <th>os</th>\n",
       "      <th>browser</th>\n",
       "    </tr>\n",
       "  </thead>\n",
       "  <tbody>\n",
       "    <tr>\n",
       "      <th>0</th>\n",
       "      <td>F</td>\n",
       "      <td>-4674034584350596422</td>\n",
       "      <td>-8901737309149095989</td>\n",
       "      <td>Firefox Beta 4.0 b12</td>\n",
       "      <td>Linux</td>\n",
       "      <td>desktop</td>\n",
       "      <td>Linux</td>\n",
       "      <td>Firefox</td>\n",
       "    </tr>\n",
       "    <tr>\n",
       "      <th>1</th>\n",
       "      <td>F</td>\n",
       "      <td>-3370818432877482132</td>\n",
       "      <td>-6952411218239337506</td>\n",
       "      <td>Chrome Mobile 59.0.3071</td>\n",
       "      <td>Android 5.1.1</td>\n",
       "      <td>mobile</td>\n",
       "      <td>Android</td>\n",
       "      <td>Chrome</td>\n",
       "    </tr>\n",
       "    <tr>\n",
       "      <th>2</th>\n",
       "      <td>H</td>\n",
       "      <td>-6833017977536873480</td>\n",
       "      <td>-7304148636562131161</td>\n",
       "      <td>Chrome Mobile 60.0.3112</td>\n",
       "      <td>Android 6.0</td>\n",
       "      <td>mobile</td>\n",
       "      <td>Android</td>\n",
       "      <td>Chrome</td>\n",
       "    </tr>\n",
       "    <tr>\n",
       "      <th>3</th>\n",
       "      <td>G</td>\n",
       "      <td>-5201470044805936293</td>\n",
       "      <td>-5836905034004402498</td>\n",
       "      <td>Chrome 60.0.3112</td>\n",
       "      <td>Windows 8</td>\n",
       "      <td>desktop</td>\n",
       "      <td>Windows</td>\n",
       "      <td>Chrome</td>\n",
       "    </tr>\n",
       "    <tr>\n",
       "      <th>4</th>\n",
       "      <td>E</td>\n",
       "      <td>-2183580581788687574</td>\n",
       "      <td>7440345113969891771</td>\n",
       "      <td>Chrome Mobile 60.0.3112</td>\n",
       "      <td>Android 6.0</td>\n",
       "      <td>mobile</td>\n",
       "      <td>Android</td>\n",
       "      <td>Chrome</td>\n",
       "    </tr>\n",
       "  </tbody>\n",
       "</table>\n",
       "</div>"
      ],
      "text/plain": [
       "  group               session       info_browserId             info_browser  \\\n",
       "0     F  -4674034584350596422 -8901737309149095989     Firefox Beta 4.0 b12   \n",
       "1     F  -3370818432877482132 -6952411218239337506  Chrome Mobile 59.0.3071   \n",
       "2     H  -6833017977536873480 -7304148636562131161  Chrome Mobile 60.0.3112   \n",
       "3     G  -5201470044805936293 -5836905034004402498         Chrome 60.0.3112   \n",
       "4     E  -2183580581788687574  7440345113969891771  Chrome Mobile 60.0.3112   \n",
       "\n",
       "         info_os info_source       os  browser  \n",
       "0          Linux     desktop    Linux  Firefox  \n",
       "1  Android 5.1.1      mobile  Android   Chrome  \n",
       "2    Android 6.0      mobile  Android   Chrome  \n",
       "3      Windows 8     desktop  Windows   Chrome  \n",
       "4    Android 6.0      mobile  Android   Chrome  "
      ]
     },
     "execution_count": 35,
     "metadata": {},
     "output_type": "execute_result"
    }
   ],
   "source": [
    "visitors.head(5)"
   ]
  },
  {
   "cell_type": "code",
   "execution_count": 32,
   "metadata": {
    "collapsed": true
   },
   "outputs": [],
   "source": [
    "first_date_pageviews = pageviews['timestamp'].min()\n",
    "last_date_pageviews = pageviews['timestamp'].max()"
   ]
  },
  {
   "cell_type": "code",
   "execution_count": 33,
   "metadata": {},
   "outputs": [
    {
     "name": "stdout",
     "output_type": "stream",
     "text": [
      "first_date_pageviews 2017-08-26 00:00:00\n",
      "last_date_pageviews 2017-09-18 12:00:10\n"
     ]
    }
   ],
   "source": [
    "print (\"first_date_pageviews\", first_date_pageviews)\n",
    "print (\"last_date_pageviews\", last_date_pageviews)"
   ]
  },
  {
   "cell_type": "markdown",
   "metadata": {},
   "source": [
    "# Check out missing values"
   ]
  },
  {
   "cell_type": "code",
   "execution_count": 36,
   "metadata": {},
   "outputs": [
    {
     "name": "stdout",
     "output_type": "stream",
     "text": [
      "In total, there are 0 variables with missing values\n",
      "In total, there are 0 variables with missing values\n",
      "In total, there are 0 variables with missing values\n",
      "In total, there are 0 variables with missing values\n"
     ]
    }
   ],
   "source": [
    "vars_with_missing = []\n",
    "\n",
    "for f in impressions.columns:\n",
    "    missings = impressions[impressions[f] == -1][f].count()\n",
    "    if missings > 0:\n",
    "        vars_with_missing.append(f)\n",
    "        missings_perc = missings/impressions.shape[0]\n",
    "        \n",
    "        print('Variable {} has {} records ({:.2%}) with missing values'.format(f, missings, missings_perc))\n",
    "        \n",
    "print('In total, there are {} variables with missing values'.format(len(vars_with_missing)))\n",
    "\n",
    "vars_with_missing = []\n",
    "\n",
    "for f in pageviews.columns:\n",
    "    missings = pageviews[pageviews[f] == -1][f].count()\n",
    "    if missings > 0:\n",
    "        vars_with_missing.append(f)\n",
    "        missings_perc = missings/pageviews.shape[0]\n",
    "        \n",
    "        print('Variable {} has {} records ({:.2%}) with missing values'.format(f, missings, missings_perc))\n",
    "        \n",
    "print('In total, there are {} variables with missing values'.format(len(vars_with_missing)))\n",
    "\n",
    "vars_with_missing = []\n",
    "\n",
    "for f in transactions.columns:\n",
    "    missings = transactions[transactions[f] == -1][f].count()\n",
    "    if missings > 0:\n",
    "        vars_with_missing.append(f)\n",
    "        missings_perc = missings/transactions.shape[0]\n",
    "        \n",
    "        print('Variable {} has {} records ({:.2%}) with missing values'.format(f, missings, missings_perc))\n",
    "        \n",
    "print('In total, there are {} variables with missing values'.format(len(vars_with_missing)))\n",
    "\n",
    "for f in clicks.columns:\n",
    "    missings = clicks[clicks[f] == -1][f].count()\n",
    "    if missings > 0:\n",
    "        vars_with_missing.append(f)\n",
    "        missings_perc = missings/clicks.shape[0]\n",
    "        \n",
    "        print('Variable {} has {} records ({:.2%}) with missing values'.format(f, missings, missings_perc))\n",
    "        \n",
    "print('In total, there are {} variables with missing values'.format(len(vars_with_missing)))"
   ]
  },
  {
   "cell_type": "markdown",
   "metadata": {},
   "source": [
    "# Check out distinct data values"
   ]
  },
  {
   "cell_type": "code",
   "execution_count": 37,
   "metadata": {},
   "outputs": [
    {
     "name": "stdout",
     "output_type": "stream",
     "text": [
      "pageviews - Variable info_source has 2 distinct values\n",
      "pageviews - Variable name has 9 distinct values\n",
      "pageviews - Variable type has 1 distinct values\n",
      "impressions - Variable algRef has 12 distinct values\n",
      "impressions - Variable feature has 12 distinct values\n",
      "impressions - Variable page has 7 distinct values\n",
      "impressions - Variable type has 1 distinct values\n"
     ]
    }
   ],
   "source": [
    "v = ['info_source','name','type']\n",
    "\n",
    "for f in v:\n",
    "    dist_values = pageviews[f].value_counts().shape[0]\n",
    "    print('pageviews - Variable {} has {} distinct values'.format(f, dist_values))\n",
    "    \n",
    "v = ['algRef','feature','page','type']\n",
    "\n",
    "for f in v:\n",
    "    dist_values = impressions[f].value_counts().shape[0]\n",
    "    print('impressions - Variable {} has {} distinct values'.format(f, dist_values))\n"
   ]
  },
  {
   "cell_type": "code",
   "execution_count": 38,
   "metadata": {},
   "outputs": [
    {
     "name": "stdout",
     "output_type": "stream",
     "text": [
      "Revenue per visitor = $5.38\n",
      "Conversion = transactions / visitors = 0.03\n",
      "Average order value (AOV) = revenue / transactions = $189.65\n",
      "\n",
      "Total of revenue $20,708,940.06\n",
      "number_of_pageviews  30367518\n",
      "number_of_impressions  25798767\n",
      "number_of_visitors  3845964\n",
      "number_of_clicks  1183002\n",
      "number_of_transactions  109194\n"
     ]
    }
   ],
   "source": [
    "'''\n",
    "Revenue per visitor = revenue / visitors\n",
    "Conversion = transactions / visitors\n",
    "Average order value (AOV) = revenue / transactions\n",
    "'''\n",
    "number_of_clicks = len(clicks)\n",
    "number_of_pageviews = len(pageviews)\n",
    "number_of_visitors = len(visitors)\n",
    "number_of_impressions = len(impressions)\n",
    "number_of_transactions = len(transactions)\n",
    "revenue = transactions['items_total'].sum()\n",
    "\n",
    "print (\"Revenue per visitor = ${:,.2f}\".format(revenue / number_of_visitors))\n",
    "print (\"Conversion = transactions / visitors = {:,.2f}\".format(number_of_transactions / number_of_visitors))\n",
    "print (\"Average order value (AOV) = revenue / transactions = ${:,.2f}\".format(revenue / number_of_transactions))\n",
    "\n",
    "print()\n",
    "print(\"Total of revenue ${:,.2f}\".format(revenue))\n",
    "print(\"number_of_pageviews \", number_of_pageviews)\n",
    "print(\"number_of_impressions \", number_of_impressions)\n",
    "print(\"number_of_visitors \", number_of_visitors)\n",
    "print(\"number_of_clicks \", number_of_clicks)\n",
    "print(\"number_of_transactions \", number_of_transactions)"
   ]
  },
  {
   "cell_type": "code",
   "execution_count": 622,
   "metadata": {
    "collapsed": true
   },
   "outputs": [],
   "source": [
    "impressions_by_group = pd.DataFrame(impressions.groupby(['group'])['session'].count())\n",
    "impressions_by_group.columns.values[0] = 'impressions'\n",
    "\n",
    "clicks_by_group = pd.DataFrame(clicks.groupby(['group'])['session'].count())\n",
    "clicks_by_group.columns.values[0] = 'clicks'\n",
    "\n",
    "transactions_by_group = pd.DataFrame(transactions.groupby(['group'])['session'].count())\n",
    "transactions_by_group.columns.values[0] = 'transactions'\n",
    "\n",
    "quantity_by_group = pd.DataFrame(transactions.groupby(['group'])['total_quantity'].sum())\n",
    "quantity_by_group.columns.values[0] = 'quantity'\n",
    "\n",
    "revenue_by_group = pd.DataFrame(transactions.groupby(['group'])['items_total'].sum())\n",
    "revenue_by_group.columns.values[0] = 'revenue'\n",
    "\n",
    "visitors_by_group = pd.DataFrame(visitors.groupby(['group'])['session'].count())\n",
    "visitors_by_group.columns.values[0] = 'visits'\n",
    "\n",
    "funnel_by_group = impressions_by_group.join(visitors_by_group).join(clicks_by_group).join(transactions_by_group).join(quantity_by_group).join(revenue_by_group)\n",
    "funnel_by_group['CTR'] = funnel_by_group['clicks']/funnel_by_group['impressions']\n",
    "funnel_by_group['Conversion'] = funnel_by_group['transactions']/funnel_by_group['visits']\n",
    "funnel_by_group['Quantity by Transaction'] = funnel_by_group['quantity']/funnel_by_group['transactions']\n",
    "\n",
    "funnel_by_group['AOV'] = funnel_by_group['revenue']/funnel_by_group['transactions']\n",
    "funnel_by_group['Revenue by visits'] = funnel_by_group['revenue']/funnel_by_group['visits']\n",
    "\n",
    "\n",
    "funnel_by_group = funnel_by_group.sort_values(by='CTR', ascending=False)"
   ]
  },
  {
   "cell_type": "code",
   "execution_count": 39,
   "metadata": {},
   "outputs": [
    {
     "ename": "NameError",
     "evalue": "name 'funnel_by_group' is not defined",
     "output_type": "error",
     "traceback": [
      "\u001b[0;31m---------------------------------------------------------------------------\u001b[0m",
      "\u001b[0;31mNameError\u001b[0m                                 Traceback (most recent call last)",
      "\u001b[0;32m<ipython-input-39-bced26772bb9>\u001b[0m in \u001b[0;36m<module>\u001b[0;34m()\u001b[0m\n\u001b[0;32m----> 1\u001b[0;31m \u001b[0mfunnel_by_group\u001b[0m\u001b[0;34m\u001b[0m\u001b[0m\n\u001b[0m",
      "\u001b[0;31mNameError\u001b[0m: name 'funnel_by_group' is not defined"
     ]
    }
   ],
   "source": [
    "funnel_by_group"
   ]
  },
  {
   "cell_type": "code",
   "execution_count": null,
   "metadata": {},
   "outputs": [],
   "source": [
    "impressions_by_algRef = pd.DataFrame(impressions.groupby(['algRef'])['session'].count())\n",
    "impressions_by_algRef.columns.values[0] = 'impressions'\n",
    "impressions_by_algRef = impressions_by_algRef.sort_values(by='impressions', ascending=False)\n",
    "impressions_by_algRef"
   ]
  },
  {
   "cell_type": "markdown",
   "metadata": {},
   "source": [
    "I was not able to track how many clicks it got from each algorithm because the feature 'id' on impressions is not a unique value like it is reported on https://github.com/chaordic/machinelearning-challenge/blob/master/dswa-challenge.ipynb. Therefore it is not possible to join impressions feature 'id' and clicks feature 'vrlId'. Other features not unique are bellow:"
   ]
  },
  {
   "cell_type": "code",
   "execution_count": null,
   "metadata": {},
   "outputs": [],
   "source": [
    "print (\"The feature 'id' is not unique on pagaviews\",len(pageviews.id.unique()))\n",
    "print (\"The feature 'id' is not unique on impressions\",len(impressions.id.unique()))\n",
    "print (\"The feature 'id' is not unique on clicks\",len(clicks.id.unique()))\n",
    "print (\"I would use the feature 'vrlId' on clicks to join with its respective impression, but the feature 'id' on impression is not unique\",len(clicks.vrlId.unique()))"
   ]
  },
  {
   "cell_type": "markdown",
   "metadata": {},
   "source": [
    "# Plot data"
   ]
  },
  {
   "cell_type": "code",
   "execution_count": null,
   "metadata": {
    "collapsed": true
   },
   "outputs": [],
   "source": [
    "def plot_barchat(x,y,bar_type,y_label,title):\n",
    "\n",
    "    y_pos = np.arange(len(x))\n",
    " \n",
    "    if bar_type==\"v\":\n",
    "        plt.bar(y_pos, y, align='center', alpha=0.5)\n",
    "        plt.xticks(y_pos, x)\n",
    "    else:\n",
    "        plt.barh(y_pos, y, align='center', alpha=0.5)\n",
    "        plt.yticks(y_pos, x)\n",
    "\n",
    "    plt.ylabel(y_label)\n",
    "    plt.title(title)\n",
    "    plt.show()"
   ]
  },
  {
   "cell_type": "markdown",
   "metadata": {},
   "source": [
    "# Sessions"
   ]
  },
  {
   "cell_type": "code",
   "execution_count": null,
   "metadata": {},
   "outputs": [],
   "source": [
    "visitors_by = pd.DataFrame(visitors.groupby(['info_source'])['info_source'].count())\n",
    "visitors_by = visitors_by.sort_values(by='info_source', ascending=False)\n",
    "x_plot = list(visitors_by.index)\n",
    "y_plot = list(visitors_by['info_source'])\n",
    "plot_barchat(x_plot,y_plot,'v','Sessions','Sessions by source')\n",
    "\n",
    "visitors_by = pd.DataFrame(visitors.groupby(['os'])['os'].count().nlargest(5))\n",
    "visitors_by = visitors_by.sort_values(by='os', ascending=True)\n",
    "x_plot = list(visitors_by.index)\n",
    "y_plot = list(visitors_by['os'])\n",
    "plot_barchat(x_plot,y_plot,'h','Sessions','Sessions by O.S')\n",
    "\n",
    "visitors_by = pd.DataFrame(visitors.groupby(['browser'])['browser'].count().nlargest(5))\n",
    "visitors_by = visitors_by.sort_values(by='browser', ascending=True)\n",
    "x_plot = list(visitors_by.index)\n",
    "y_plot = list(visitors_by['browser'])\n",
    "plot_barchat(x_plot,y_plot,'h','Sessions','Sessions by Browser')"
   ]
  },
  {
   "cell_type": "markdown",
   "metadata": {},
   "source": [
    "# Funnel"
   ]
  },
  {
   "cell_type": "code",
   "execution_count": null,
   "metadata": {},
   "outputs": [],
   "source": [
    "funnel_by_group = funnel_by_group.sort_values(by='CTR', ascending=True)\n",
    "x_plot = funnel_by_group.index\n",
    "y_plot = funnel_by_group['CTR']\n",
    "plot_barchat(x_plot,y_plot,'v','CTR','Click through rate by Group')\n",
    "\n",
    "funnel_by_group = funnel_by_group.sort_values(by='Conversion', ascending=True)\n",
    "x_plot = funnel_by_group.index\n",
    "y_plot = funnel_by_group['Conversion']\n",
    "plot_barchat(x_plot,y_plot,'v','Conversion','Conversion by Group')\n",
    "\n",
    "funnel_by_group = funnel_by_group.sort_values(by='AOV', ascending=True)\n",
    "x_plot = funnel_by_group.index\n",
    "y_plot = funnel_by_group['AOV']\n",
    "plot_barchat(x_plot,y_plot,'v','AOV','AOV by Group')"
   ]
  },
  {
   "cell_type": "code",
   "execution_count": null,
   "metadata": {},
   "outputs": [],
   "source": [
    "impressions_by_algRef = impressions_by_algRef.sort_values(by='impressions', ascending=True)\n",
    "x_plot = impressions_by_algRef.index\n",
    "y_plot = impressions_by_algRef['impressions']\n",
    "plot_barchat(x_plot,y_plot,'h','Impressions','Impressions by Algorithm')\n",
    "print(\"I could not figure out how many clicks a algorithm got because I did not find a link between both observations.\")\n",
    "print(\"If I had found a feature in order to relate impressions and clicks, I would have done a better algorithm evaluation through CTR\")"
   ]
  },
  {
   "cell_type": "markdown",
   "metadata": {},
   "source": [
    "# Best seller products "
   ]
  },
  {
   "cell_type": "code",
   "execution_count": null,
   "metadata": {},
   "outputs": [],
   "source": [
    "transactions_by = pd.DataFrame(transactions_items.groupby(['items_id'])['items_quantity'].sum().nlargest(10))\n",
    "transactions_by = transactions_by.sort_values(by='items_quantity', ascending=True)\n",
    "x_plot = list(transactions_by.index)\n",
    "y_plot = list(transactions_by['items_quantity'])\n",
    "plot_barchat(x_plot,y_plot,'h','Quantity','Top 10 Quantity by Product')\n",
    "\n",
    "transactions_by = pd.DataFrame(transactions_items.groupby(['items_id'])['items_total'].sum().nlargest(10))\n",
    "transactions_by = transactions_by.sort_values(by='items_total', ascending=True)\n",
    "x_plot = list(transactions_by.index)\n",
    "y_plot = list(transactions_by['items_total'])\n",
    "plot_barchat(x_plot,y_plot,'h','Revenue','Top 10 Revenue by Product')"
   ]
  },
  {
   "cell_type": "markdown",
   "metadata": {},
   "source": [
    "# Product with more impressions"
   ]
  },
  {
   "cell_type": "code",
   "execution_count": null,
   "metadata": {},
   "outputs": [],
   "source": [
    "impressions_by = pd.DataFrame(impressions_products.groupby(['products'])['products'].count().nlargest(10))\n",
    "impressions_by = impressions_by.sort_values(by='products', ascending=True)\n",
    "x_plot = list(impressions_by.index)\n",
    "y_plot = list(impressions_by['products'])\n",
    "plot_barchat(x_plot,y_plot,'h','Impressions','Top 10 impressions by Product')"
   ]
  },
  {
   "cell_type": "markdown",
   "metadata": {},
   "source": [
    "# Map"
   ]
  },
  {
   "cell_type": "code",
   "execution_count": null,
   "metadata": {
    "collapsed": true
   },
   "outputs": [],
   "source": []
  },
  {
   "cell_type": "code",
   "execution_count": null,
   "metadata": {
    "collapsed": true
   },
   "outputs": [],
   "source": []
  }
 ],
 "metadata": {
  "kernelspec": {
   "display_name": "Python 3",
   "language": "python",
   "name": "python3"
  },
  "language_info": {
   "codemirror_mode": {
    "name": "ipython",
    "version": 3
   },
   "file_extension": ".py",
   "mimetype": "text/x-python",
   "name": "python",
   "nbconvert_exporter": "python",
   "pygments_lexer": "ipython3",
   "version": "3.6.2"
  }
 },
 "nbformat": 4,
 "nbformat_minor": 2
}
