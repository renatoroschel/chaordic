{
 "cells": [
  {
   "cell_type": "code",
   "execution_count": 1,
   "metadata": {
    "collapsed": true
   },
   "outputs": [],
   "source": [
    "import sqlite3\n",
    "from sqlite3 import Error\n",
    "import pandas as pd\n",
    "import matplotlib.pyplot as plt; plt.rcdefaults()\n",
    "import seaborn as sns\n",
    "import numpy as np\n",
    "%matplotlib inline"
   ]
  },
  {
   "cell_type": "markdown",
   "metadata": {},
   "source": [
    "# Extract the files\n",
    "## cat part-* > clicks.gz\n",
    "## gunzip -c clicks.gz > clicks.json\n",
    "\n",
    "## cat part-* > transaction.gz\n",
    "## gunzip -c transaction.gz > transaction.json\n",
    "\n",
    "## cat part-* > impressions.gz\n",
    "## gunzip -c impressions.gz > impressions.json\n",
    "\n",
    "## cat part-* > clicks.gz\n",
    "## gunzip -c clicks.gz > clicks.json\n",
    "\n",
    "## Afterwards, the explore.py will be ran to create a charchic.db SQLite database. The file create_tables.sql will be used to create the SQL scheme. All data from the JSON files will be parsed and loaded up into the SQLite database."
   ]
  },
  {
   "cell_type": "markdown",
   "metadata": {},
   "source": [
    "# SQLlite connections and functions"
   ]
  },
  {
   "cell_type": "code",
   "execution_count": 574,
   "metadata": {
    "collapsed": true
   },
   "outputs": [],
   "source": [
    "#!python explore.py"
   ]
  },
  {
   "cell_type": "code",
   "execution_count": 2,
   "metadata": {
    "collapsed": true
   },
   "outputs": [],
   "source": [
    "def create_connection(db_file):\n",
    "    \"\"\" create a database connection to the SQLite database\n",
    "        specified by the db_file\n",
    "    :param db_file: database file\n",
    "    :return: Connection object or None\n",
    "    \"\"\"\n",
    "    try:\n",
    "        conn = sqlite3.connect(db_file)\n",
    "        return conn\n",
    "    except Error as e:\n",
    "        print(e)\n",
    " \n",
    "    return None"
   ]
  },
  {
   "cell_type": "code",
   "execution_count": 3,
   "metadata": {
    "collapsed": true
   },
   "outputs": [],
   "source": [
    "def make_select(conn,sqlCommand):\n",
    "    \"\"\"\n",
    "    Query all rows in the tasks table\n",
    "    :param conn: the Connection object\n",
    "    :return:\n",
    "    \"\"\"\n",
    "    cur = conn.cursor()\n",
    "    cur.execute(sqlCommand)\n",
    " \n",
    "    rows = cur.fetchall()\n",
    " \n",
    "    for row in rows:\n",
    "        print(row)"
   ]
  },
  {
   "cell_type": "code",
   "execution_count": 4,
   "metadata": {
    "collapsed": true
   },
   "outputs": [],
   "source": [
    "db_file = \"chaordic.db\"\n",
    "conn = create_connection(db_file)"
   ]
  },
  {
   "cell_type": "code",
   "execution_count": 5,
   "metadata": {},
   "outputs": [
    {
     "name": "stdout",
     "output_type": "stream",
     "text": [
      "(-8468716808217914046, -2946697713091517060, 99.99, 1)\n",
      "(103257389481310034, -7444430477752553485, 86.24, 1)\n",
      "(103257389481310034, -1593531750981905395, 29.99, 1)\n",
      "(103257389481310034, -1593531750981905395, 29.99, 1)\n",
      "(998471017524245573, -4553141046227747134, 154.9, 1)\n"
     ]
    }
   ],
   "source": [
    "# Test database conection\n",
    "make_select(conn, \"Select * From transactions_items Limit 5\")"
   ]
  },
  {
   "cell_type": "markdown",
   "metadata": {},
   "source": [
    "# Load up panda dataframes with SQL data."
   ]
  },
  {
   "cell_type": "code",
   "execution_count": 8,
   "metadata": {},
   "outputs": [
    {
     "data": {
      "text/plain": [
       "''"
      ]
     },
     "execution_count": 8,
     "metadata": {},
     "output_type": "execute_result"
    }
   ],
   "source": [
    "sqlLimit = 0 # it is for testing because the datasets are pretty large\n",
    "def RetSqlLimit(nameSource,limit):\n",
    "    if limit>0:\n",
    "        if nameSource=='pageviews':\n",
    "            return \" Limit \"+str(limit)\n",
    "        elif nameSource=='clicks':\n",
    "            return \" Limit \"+str(int(limit/25.67035848))\n",
    "        elif nameSource=='impressions':\n",
    "            return \" Limit \"+str(int(limit/1.177091993))\n",
    "        elif nameSource=='transactions':\n",
    "            return \" Limit \"+str(int(limit/278.1644851))\n",
    "    else:\n",
    "        return \"\"\n",
    "RetSqlLimit('impressions',sqlLimit)"
   ]
  },
  {
   "cell_type": "code",
   "execution_count": 9,
   "metadata": {
    "collapsed": true
   },
   "outputs": [],
   "source": [
    "clicks = pd.read_sql_query(\"SELECT * from clicks\"+RetSqlLimit(\"clicks\",sqlLimit), conn)\n",
    "clicks['group'] = clicks['ab'].apply(lambda x: x[:1])\n",
    "clicks['session'] = clicks['ab'].apply(lambda x: x[2:])"
   ]
  },
  {
   "cell_type": "code",
   "execution_count": 10,
   "metadata": {
    "collapsed": true
   },
   "outputs": [],
   "source": [
    "impressions = pd.read_sql_query(\"SELECT * from impressions\"+RetSqlLimit(\"impressions\",sqlLimit), conn)\n",
    "impressions_products = pd.read_sql_query(\"SELECT * from impressions_products\"+RetSqlLimit(\"impressions\",sqlLimit), conn)\n",
    "impressions['group'] = impressions['ab'].apply(lambda x: x[:1])\n",
    "impressions['session'] = impressions['ab'].apply(lambda x: x[2:])"
   ]
  },
  {
   "cell_type": "code",
   "execution_count": 11,
   "metadata": {
    "collapsed": true
   },
   "outputs": [],
   "source": [
    "pageviews = pd.read_sql_query(\"SELECT * from pageviews \"+RetSqlLimit(\"pageviews\",sqlLimit), conn)\n",
    "pageviews_tags = pd.read_sql_query(\"SELECT * from pageviews_tags \"+RetSqlLimit(\"pageviews\",sqlLimit), conn)\n",
    "pageviews['group'] = pageviews['ab'].apply(lambda x: x[:1])\n",
    "pageviews['session'] = pageviews['ab'].apply(lambda x: x[2:])"
   ]
  },
  {
   "cell_type": "code",
   "execution_count": 12,
   "metadata": {},
   "outputs": [
    {
     "data": {
      "text/html": [
       "<div>\n",
       "<style>\n",
       "    .dataframe thead tr:only-child th {\n",
       "        text-align: right;\n",
       "    }\n",
       "\n",
       "    .dataframe thead th {\n",
       "        text-align: left;\n",
       "    }\n",
       "\n",
       "    .dataframe tbody tr th {\n",
       "        vertical-align: top;\n",
       "    }\n",
       "</style>\n",
       "<table border=\"1\" class=\"dataframe\">\n",
       "  <thead>\n",
       "    <tr style=\"text-align: right;\">\n",
       "      <th></th>\n",
       "      <th>id</th>\n",
       "      <th>ab</th>\n",
       "      <th>items_total</th>\n",
       "      <th>total_quantity</th>\n",
       "      <th>group</th>\n",
       "      <th>session</th>\n",
       "    </tr>\n",
       "  </thead>\n",
       "  <tbody>\n",
       "    <tr>\n",
       "      <th>0</th>\n",
       "      <td>-9223185178483173395</td>\n",
       "      <td>E/585971731795584869</td>\n",
       "      <td>101.98</td>\n",
       "      <td>2</td>\n",
       "      <td>E</td>\n",
       "      <td>585971731795584869</td>\n",
       "    </tr>\n",
       "    <tr>\n",
       "      <th>1</th>\n",
       "      <td>-9222261015789277132</td>\n",
       "      <td>A/-5111293127490179813</td>\n",
       "      <td>305.99</td>\n",
       "      <td>1</td>\n",
       "      <td>A</td>\n",
       "      <td>-5111293127490179813</td>\n",
       "    </tr>\n",
       "    <tr>\n",
       "      <th>2</th>\n",
       "      <td>-9222187580537061584</td>\n",
       "      <td>F/2564340076839017376</td>\n",
       "      <td>229.99</td>\n",
       "      <td>1</td>\n",
       "      <td>F</td>\n",
       "      <td>2564340076839017376</td>\n",
       "    </tr>\n",
       "    <tr>\n",
       "      <th>3</th>\n",
       "      <td>-9222181048618470236</td>\n",
       "      <td>D/-7976297778178387230</td>\n",
       "      <td>174.24</td>\n",
       "      <td>1</td>\n",
       "      <td>D</td>\n",
       "      <td>-7976297778178387230</td>\n",
       "    </tr>\n",
       "    <tr>\n",
       "      <th>4</th>\n",
       "      <td>-9221908979709112875</td>\n",
       "      <td>B/-2679500769807275555</td>\n",
       "      <td>99.58</td>\n",
       "      <td>2</td>\n",
       "      <td>B</td>\n",
       "      <td>-2679500769807275555</td>\n",
       "    </tr>\n",
       "  </tbody>\n",
       "</table>\n",
       "</div>"
      ],
      "text/plain": [
       "                    id                      ab  items_total  total_quantity  \\\n",
       "0 -9223185178483173395    E/585971731795584869       101.98               2   \n",
       "1 -9222261015789277132  A/-5111293127490179813       305.99               1   \n",
       "2 -9222187580537061584   F/2564340076839017376       229.99               1   \n",
       "3 -9222181048618470236  D/-7976297778178387230       174.24               1   \n",
       "4 -9221908979709112875  B/-2679500769807275555        99.58               2   \n",
       "\n",
       "  group               session  \n",
       "0     E    585971731795584869  \n",
       "1     A  -5111293127490179813  \n",
       "2     F   2564340076839017376  \n",
       "3     D  -7976297778178387230  \n",
       "4     B  -2679500769807275555  "
      ]
     },
     "execution_count": 12,
     "metadata": {},
     "output_type": "execute_result"
    }
   ],
   "source": [
    "sqlText = '''\n",
    "Select a.id,a.ab, sum(items_price*items_quantity) as items_total, sum(items_quantity) as total_quantity\n",
    "  From transactions a, transactions_items b\n",
    " Where a.id = b.id\n",
    " Group By a.id, a.ab\n",
    "''' + RetSqlLimit(\"transactions\",sqlLimit)\n",
    "\n",
    "transactions = pd.read_sql_query(sqlText, conn)\n",
    "transactions_items = pd.read_sql_query(\"SELECT * from transactions_items \"+RetSqlLimit(\"transactions\",sqlLimit), conn)\n",
    "transactions['group'] = transactions['ab'].apply(lambda x: x[:1])\n",
    "transactions['session'] = transactions['ab'].apply(lambda x: x[2:])\n",
    "transactions_items['items_total'] = transactions_items['items_price']*transactions_items['items_quantity']\n",
    "\n",
    "transactions.head(5)"
   ]
  },
  {
   "cell_type": "code",
   "execution_count": 13,
   "metadata": {},
   "outputs": [
    {
     "name": "stdout",
     "output_type": "stream",
     "text": [
      "clicks 1183002\n",
      "impressions 25798767\n",
      "impressions_products 70660912\n",
      "pageviews 30367518\n",
      "pageviews_tags 156979276\n",
      "transactions 109194\n",
      "transactions_items 179431\n"
     ]
    }
   ],
   "source": [
    "print(\"clicks\", len(clicks))\n",
    "print(\"impressions\", len(impressions))\n",
    "print(\"impressions_products\", len(impressions_products))\n",
    "print(\"pageviews\", len(pageviews))\n",
    "print(\"pageviews_tags\", len(pageviews_tags))\n",
    "print(\"transactions\", len(transactions))\n",
    "print(\"transactions_items\", len(transactions_items))"
   ]
  },
  {
   "cell_type": "code",
   "execution_count": 14,
   "metadata": {},
   "outputs": [
    {
     "data": {
      "text/html": [
       "<div>\n",
       "<style>\n",
       "    .dataframe thead tr:only-child th {\n",
       "        text-align: right;\n",
       "    }\n",
       "\n",
       "    .dataframe thead th {\n",
       "        text-align: left;\n",
       "    }\n",
       "\n",
       "    .dataframe tbody tr th {\n",
       "        vertical-align: top;\n",
       "    }\n",
       "</style>\n",
       "<table border=\"1\" class=\"dataframe\">\n",
       "  <thead>\n",
       "    <tr style=\"text-align: right;\">\n",
       "      <th></th>\n",
       "      <th>type</th>\n",
       "      <th>feature</th>\n",
       "      <th>vrlId</th>\n",
       "      <th>id</th>\n",
       "      <th>info_browserId</th>\n",
       "      <th>info_browser</th>\n",
       "      <th>info_os</th>\n",
       "      <th>info_geoIPLongitude</th>\n",
       "      <th>info_geoIPLatitude</th>\n",
       "      <th>info_source</th>\n",
       "      <th>ab</th>\n",
       "      <th>page</th>\n",
       "      <th>algRef</th>\n",
       "      <th>my_id</th>\n",
       "      <th>timestamp</th>\n",
       "      <th>group</th>\n",
       "      <th>session</th>\n",
       "    </tr>\n",
       "  </thead>\n",
       "  <tbody>\n",
       "    <tr>\n",
       "      <th>0</th>\n",
       "      <td>viewreclog</td>\n",
       "      <td>-7828424103269057573</td>\n",
       "      <td>8765249957191</td>\n",
       "      <td>8765249957191</td>\n",
       "      <td>2077291510979737164</td>\n",
       "      <td>Chrome Mobile 59.0.3071</td>\n",
       "      <td>Android 4.4.2</td>\n",
       "      <td>-43.2192</td>\n",
       "      <td>-22.8305</td>\n",
       "      <td>mobile</td>\n",
       "      <td>G/7849515658654400358</td>\n",
       "      <td>product</td>\n",
       "      <td>5321418768591000592</td>\n",
       "      <td>1</td>\n",
       "      <td>2017-08-26 00:05:22</td>\n",
       "      <td>G</td>\n",
       "      <td>7849515658654400358</td>\n",
       "    </tr>\n",
       "    <tr>\n",
       "      <th>1</th>\n",
       "      <td>viewreclog</td>\n",
       "      <td>5603092165415881620</td>\n",
       "      <td>8765249957191</td>\n",
       "      <td>8765249957191</td>\n",
       "      <td>-5794300198289426830</td>\n",
       "      <td>Chrome Mobile 58.0.3029</td>\n",
       "      <td>Android 4.3</td>\n",
       "      <td>-46.6658</td>\n",
       "      <td>-23.4733</td>\n",
       "      <td>mobile</td>\n",
       "      <td>E/-9206771770294839467</td>\n",
       "      <td>search</td>\n",
       "      <td>8765249957191</td>\n",
       "      <td>2</td>\n",
       "      <td>2017-08-26 00:05:22</td>\n",
       "      <td>E</td>\n",
       "      <td>-9206771770294839467</td>\n",
       "    </tr>\n",
       "  </tbody>\n",
       "</table>\n",
       "</div>"
      ],
      "text/plain": [
       "         type              feature          vrlId             id  \\\n",
       "0  viewreclog -7828424103269057573  8765249957191  8765249957191   \n",
       "1  viewreclog  5603092165415881620  8765249957191  8765249957191   \n",
       "\n",
       "        info_browserId             info_browser        info_os  \\\n",
       "0  2077291510979737164  Chrome Mobile 59.0.3071  Android 4.4.2   \n",
       "1 -5794300198289426830  Chrome Mobile 58.0.3029    Android 4.3   \n",
       "\n",
       "   info_geoIPLongitude  info_geoIPLatitude info_source  \\\n",
       "0             -43.2192            -22.8305      mobile   \n",
       "1             -46.6658            -23.4733      mobile   \n",
       "\n",
       "                       ab     page               algRef  my_id  \\\n",
       "0   G/7849515658654400358  product  5321418768591000592      1   \n",
       "1  E/-9206771770294839467   search        8765249957191      2   \n",
       "\n",
       "             timestamp group               session  \n",
       "0  2017-08-26 00:05:22     G   7849515658654400358  \n",
       "1  2017-08-26 00:05:22     E  -9206771770294839467  "
      ]
     },
     "execution_count": 14,
     "metadata": {},
     "output_type": "execute_result"
    }
   ],
   "source": [
    "impressions.head(2)"
   ]
  },
  {
   "cell_type": "code",
   "execution_count": 15,
   "metadata": {},
   "outputs": [
    {
     "name": "stdout",
     "output_type": "stream",
     "text": [
      "<class 'pandas.core.frame.DataFrame'>\n",
      "RangeIndex: 25798767 entries, 0 to 25798766\n",
      "Data columns (total 17 columns):\n",
      "type                   object\n",
      "feature                int64\n",
      "vrlId                  int64\n",
      "id                     int64\n",
      "info_browserId         int64\n",
      "info_browser           object\n",
      "info_os                object\n",
      "info_geoIPLongitude    float64\n",
      "info_geoIPLatitude     float64\n",
      "info_source            object\n",
      "ab                     object\n",
      "page                   object\n",
      "algRef                 int64\n",
      "my_id                  int64\n",
      "timestamp              object\n",
      "group                  object\n",
      "session                object\n",
      "dtypes: float64(2), int64(6), object(9)\n",
      "memory usage: 3.3+ GB\n"
     ]
    }
   ],
   "source": [
    "impressions.info()"
   ]
  },
  {
   "cell_type": "code",
   "execution_count": 16,
   "metadata": {},
   "outputs": [
    {
     "data": {
      "text/html": [
       "<div>\n",
       "<style>\n",
       "    .dataframe thead tr:only-child th {\n",
       "        text-align: right;\n",
       "    }\n",
       "\n",
       "    .dataframe thead th {\n",
       "        text-align: left;\n",
       "    }\n",
       "\n",
       "    .dataframe tbody tr th {\n",
       "        vertical-align: top;\n",
       "    }\n",
       "</style>\n",
       "<table border=\"1\" class=\"dataframe\">\n",
       "  <thead>\n",
       "    <tr style=\"text-align: right;\">\n",
       "      <th></th>\n",
       "      <th>my_id</th>\n",
       "      <th>products</th>\n",
       "    </tr>\n",
       "  </thead>\n",
       "  <tbody>\n",
       "    <tr>\n",
       "      <th>0</th>\n",
       "      <td>1</td>\n",
       "      <td>3653391013242405988</td>\n",
       "    </tr>\n",
       "    <tr>\n",
       "      <th>1</th>\n",
       "      <td>1</td>\n",
       "      <td>3492582560532754791</td>\n",
       "    </tr>\n",
       "  </tbody>\n",
       "</table>\n",
       "</div>"
      ],
      "text/plain": [
       "   my_id             products\n",
       "0      1  3653391013242405988\n",
       "1      1  3492582560532754791"
      ]
     },
     "execution_count": 16,
     "metadata": {},
     "output_type": "execute_result"
    }
   ],
   "source": [
    "impressions_products.head(2)"
   ]
  },
  {
   "cell_type": "code",
   "execution_count": 17,
   "metadata": {},
   "outputs": [
    {
     "name": "stdout",
     "output_type": "stream",
     "text": [
      "<class 'pandas.core.frame.DataFrame'>\n",
      "RangeIndex: 70660912 entries, 0 to 70660911\n",
      "Data columns (total 2 columns):\n",
      "my_id       int64\n",
      "products    int64\n",
      "dtypes: int64(2)\n",
      "memory usage: 1.1 GB\n"
     ]
    }
   ],
   "source": [
    "impressions_products.info()"
   ]
  },
  {
   "cell_type": "code",
   "execution_count": 18,
   "metadata": {},
   "outputs": [
    {
     "data": {
      "text/html": [
       "<div>\n",
       "<style>\n",
       "    .dataframe thead tr:only-child th {\n",
       "        text-align: right;\n",
       "    }\n",
       "\n",
       "    .dataframe thead th {\n",
       "        text-align: left;\n",
       "    }\n",
       "\n",
       "    .dataframe tbody tr th {\n",
       "        vertical-align: top;\n",
       "    }\n",
       "</style>\n",
       "<table border=\"1\" class=\"dataframe\">\n",
       "  <thead>\n",
       "    <tr style=\"text-align: right;\">\n",
       "      <th></th>\n",
       "      <th>type</th>\n",
       "      <th>name</th>\n",
       "      <th>id</th>\n",
       "      <th>info_browserId</th>\n",
       "      <th>info_browser</th>\n",
       "      <th>info_os</th>\n",
       "      <th>info_geoIPLongitude</th>\n",
       "      <th>info_geoIPLatitude</th>\n",
       "      <th>info_source</th>\n",
       "      <th>ab</th>\n",
       "      <th>my_id</th>\n",
       "      <th>timestamp</th>\n",
       "      <th>group</th>\n",
       "      <th>session</th>\n",
       "    </tr>\n",
       "  </thead>\n",
       "  <tbody>\n",
       "    <tr>\n",
       "      <th>0</th>\n",
       "      <td>page</td>\n",
       "      <td>category</td>\n",
       "      <td>8765249957191</td>\n",
       "      <td>-8901737309149095989</td>\n",
       "      <td>Firefox Beta 4.0 b12</td>\n",
       "      <td>Linux</td>\n",
       "      <td>None</td>\n",
       "      <td>None</td>\n",
       "      <td>desktop</td>\n",
       "      <td>F/-4674034584350596422</td>\n",
       "      <td>25798768</td>\n",
       "      <td>2017-08-26 12:18:26</td>\n",
       "      <td>F</td>\n",
       "      <td>-4674034584350596422</td>\n",
       "    </tr>\n",
       "    <tr>\n",
       "      <th>1</th>\n",
       "      <td>page</td>\n",
       "      <td>category</td>\n",
       "      <td>8765249957191</td>\n",
       "      <td>-6952411218239337506</td>\n",
       "      <td>Chrome Mobile 59.0.3071</td>\n",
       "      <td>Android 5.1.1</td>\n",
       "      <td>None</td>\n",
       "      <td>None</td>\n",
       "      <td>mobile</td>\n",
       "      <td>F/-3370818432877482132</td>\n",
       "      <td>25798769</td>\n",
       "      <td>2017-08-26 12:18:26</td>\n",
       "      <td>F</td>\n",
       "      <td>-3370818432877482132</td>\n",
       "    </tr>\n",
       "  </tbody>\n",
       "</table>\n",
       "</div>"
      ],
      "text/plain": [
       "   type      name             id       info_browserId  \\\n",
       "0  page  category  8765249957191 -8901737309149095989   \n",
       "1  page  category  8765249957191 -6952411218239337506   \n",
       "\n",
       "              info_browser        info_os info_geoIPLongitude  \\\n",
       "0     Firefox Beta 4.0 b12          Linux                None   \n",
       "1  Chrome Mobile 59.0.3071  Android 5.1.1                None   \n",
       "\n",
       "  info_geoIPLatitude info_source                      ab     my_id  \\\n",
       "0               None     desktop  F/-4674034584350596422  25798768   \n",
       "1               None      mobile  F/-3370818432877482132  25798769   \n",
       "\n",
       "             timestamp group               session  \n",
       "0  2017-08-26 12:18:26     F  -4674034584350596422  \n",
       "1  2017-08-26 12:18:26     F  -3370818432877482132  "
      ]
     },
     "execution_count": 18,
     "metadata": {},
     "output_type": "execute_result"
    }
   ],
   "source": [
    "pageviews.head(2)"
   ]
  },
  {
   "cell_type": "code",
   "execution_count": 19,
   "metadata": {},
   "outputs": [
    {
     "name": "stdout",
     "output_type": "stream",
     "text": [
      "<class 'pandas.core.frame.DataFrame'>\n",
      "RangeIndex: 30367518 entries, 0 to 30367517\n",
      "Data columns (total 14 columns):\n",
      "type                   object\n",
      "name                   object\n",
      "id                     int64\n",
      "info_browserId         int64\n",
      "info_browser           object\n",
      "info_os                object\n",
      "info_geoIPLongitude    object\n",
      "info_geoIPLatitude     object\n",
      "info_source            object\n",
      "ab                     object\n",
      "my_id                  int64\n",
      "timestamp              object\n",
      "group                  object\n",
      "session                object\n",
      "dtypes: int64(3), object(11)\n",
      "memory usage: 3.2+ GB\n"
     ]
    }
   ],
   "source": [
    "pageviews.info()"
   ]
  },
  {
   "cell_type": "code",
   "execution_count": 20,
   "metadata": {},
   "outputs": [
    {
     "data": {
      "text/html": [
       "<div>\n",
       "<style>\n",
       "    .dataframe thead tr:only-child th {\n",
       "        text-align: right;\n",
       "    }\n",
       "\n",
       "    .dataframe thead th {\n",
       "        text-align: left;\n",
       "    }\n",
       "\n",
       "    .dataframe tbody tr th {\n",
       "        vertical-align: top;\n",
       "    }\n",
       "</style>\n",
       "<table border=\"1\" class=\"dataframe\">\n",
       "  <thead>\n",
       "    <tr style=\"text-align: right;\">\n",
       "      <th></th>\n",
       "      <th>my_id</th>\n",
       "      <th>tags</th>\n",
       "    </tr>\n",
       "  </thead>\n",
       "  <tbody>\n",
       "    <tr>\n",
       "      <th>0</th>\n",
       "      <td>25798768</td>\n",
       "      <td>-5990677861896497487</td>\n",
       "    </tr>\n",
       "    <tr>\n",
       "      <th>1</th>\n",
       "      <td>25798768</td>\n",
       "      <td>-5075272788001827571</td>\n",
       "    </tr>\n",
       "  </tbody>\n",
       "</table>\n",
       "</div>"
      ],
      "text/plain": [
       "      my_id                 tags\n",
       "0  25798768 -5990677861896497487\n",
       "1  25798768 -5075272788001827571"
      ]
     },
     "execution_count": 20,
     "metadata": {},
     "output_type": "execute_result"
    }
   ],
   "source": [
    "pageviews_tags.head(2)"
   ]
  },
  {
   "cell_type": "code",
   "execution_count": 21,
   "metadata": {},
   "outputs": [
    {
     "name": "stdout",
     "output_type": "stream",
     "text": [
      "<class 'pandas.core.frame.DataFrame'>\n",
      "RangeIndex: 156979276 entries, 0 to 156979275\n",
      "Data columns (total 2 columns):\n",
      "my_id    int64\n",
      "tags     int64\n",
      "dtypes: int64(2)\n",
      "memory usage: 2.3 GB\n"
     ]
    }
   ],
   "source": [
    "pageviews_tags.info()"
   ]
  },
  {
   "cell_type": "code",
   "execution_count": 22,
   "metadata": {},
   "outputs": [
    {
     "data": {
      "text/html": [
       "<div>\n",
       "<style>\n",
       "    .dataframe thead tr:only-child th {\n",
       "        text-align: right;\n",
       "    }\n",
       "\n",
       "    .dataframe thead th {\n",
       "        text-align: left;\n",
       "    }\n",
       "\n",
       "    .dataframe tbody tr th {\n",
       "        vertical-align: top;\n",
       "    }\n",
       "</style>\n",
       "<table border=\"1\" class=\"dataframe\">\n",
       "  <thead>\n",
       "    <tr style=\"text-align: right;\">\n",
       "      <th></th>\n",
       "      <th>type</th>\n",
       "      <th>feature</th>\n",
       "      <th>vrlId</th>\n",
       "      <th>product</th>\n",
       "      <th>id</th>\n",
       "      <th>info_browserId</th>\n",
       "      <th>info_browser</th>\n",
       "      <th>info_os</th>\n",
       "      <th>info_geoIPLongitude</th>\n",
       "      <th>info_geoIPLatitude</th>\n",
       "      <th>info_source</th>\n",
       "      <th>ab</th>\n",
       "      <th>page</th>\n",
       "      <th>timestamp</th>\n",
       "      <th>group</th>\n",
       "      <th>session</th>\n",
       "    </tr>\n",
       "  </thead>\n",
       "  <tbody>\n",
       "    <tr>\n",
       "      <th>0</th>\n",
       "      <td>clicklog</td>\n",
       "      <td>2406596896456549791</td>\n",
       "      <td>-8377820109229386856</td>\n",
       "      <td>6952869018143429188</td>\n",
       "      <td>8765249957191</td>\n",
       "      <td>1865329336598195445</td>\n",
       "      <td>Chrome 60.0.3112</td>\n",
       "      <td>Windows</td>\n",
       "      <td>-122.3341</td>\n",
       "      <td>47.6103</td>\n",
       "      <td>desktop</td>\n",
       "      <td>A/-2433577766061835784</td>\n",
       "      <td>category</td>\n",
       "      <td>2017-09-13 12:58:08</td>\n",
       "      <td>A</td>\n",
       "      <td>-2433577766061835784</td>\n",
       "    </tr>\n",
       "    <tr>\n",
       "      <th>1</th>\n",
       "      <td>clicklog</td>\n",
       "      <td>-7828424103269057573</td>\n",
       "      <td>6627298913942488713</td>\n",
       "      <td>-5138915283570447380</td>\n",
       "      <td>8765249957191</td>\n",
       "      <td>3258854675349784616</td>\n",
       "      <td>Chrome Mobile 56.0.2924</td>\n",
       "      <td>Android 6.0.1</td>\n",
       "      <td>-122.3422</td>\n",
       "      <td>47.6344</td>\n",
       "      <td>mobile</td>\n",
       "      <td>A/-621823323795459513</td>\n",
       "      <td>product</td>\n",
       "      <td>2017-09-13 12:08:00</td>\n",
       "      <td>A</td>\n",
       "      <td>-621823323795459513</td>\n",
       "    </tr>\n",
       "  </tbody>\n",
       "</table>\n",
       "</div>"
      ],
      "text/plain": [
       "       type              feature                vrlId              product  \\\n",
       "0  clicklog  2406596896456549791 -8377820109229386856  6952869018143429188   \n",
       "1  clicklog -7828424103269057573  6627298913942488713 -5138915283570447380   \n",
       "\n",
       "              id       info_browserId             info_browser        info_os  \\\n",
       "0  8765249957191  1865329336598195445         Chrome 60.0.3112        Windows   \n",
       "1  8765249957191  3258854675349784616  Chrome Mobile 56.0.2924  Android 6.0.1   \n",
       "\n",
       "   info_geoIPLongitude  info_geoIPLatitude info_source  \\\n",
       "0            -122.3341             47.6103     desktop   \n",
       "1            -122.3422             47.6344      mobile   \n",
       "\n",
       "                       ab      page            timestamp group  \\\n",
       "0  A/-2433577766061835784  category  2017-09-13 12:58:08     A   \n",
       "1   A/-621823323795459513   product  2017-09-13 12:08:00     A   \n",
       "\n",
       "                session  \n",
       "0  -2433577766061835784  \n",
       "1   -621823323795459513  "
      ]
     },
     "execution_count": 22,
     "metadata": {},
     "output_type": "execute_result"
    }
   ],
   "source": [
    "clicks.head(2)"
   ]
  },
  {
   "cell_type": "code",
   "execution_count": 23,
   "metadata": {},
   "outputs": [
    {
     "name": "stdout",
     "output_type": "stream",
     "text": [
      "<class 'pandas.core.frame.DataFrame'>\n",
      "RangeIndex: 1183002 entries, 0 to 1183001\n",
      "Data columns (total 16 columns):\n",
      "type                   1183002 non-null object\n",
      "feature                1183002 non-null int64\n",
      "vrlId                  1183002 non-null int64\n",
      "product                1183002 non-null int64\n",
      "id                     1183002 non-null int64\n",
      "info_browserId         1183002 non-null int64\n",
      "info_browser           1183002 non-null object\n",
      "info_os                1183002 non-null object\n",
      "info_geoIPLongitude    1163744 non-null float64\n",
      "info_geoIPLatitude     1163744 non-null float64\n",
      "info_source            1182991 non-null object\n",
      "ab                     1183002 non-null object\n",
      "page                   1183002 non-null object\n",
      "timestamp              1183002 non-null object\n",
      "group                  1183002 non-null object\n",
      "session                1183002 non-null object\n",
      "dtypes: float64(2), int64(5), object(9)\n",
      "memory usage: 144.4+ MB\n"
     ]
    }
   ],
   "source": [
    "clicks.info()"
   ]
  },
  {
   "cell_type": "code",
   "execution_count": 24,
   "metadata": {},
   "outputs": [
    {
     "data": {
      "text/html": [
       "<div>\n",
       "<style>\n",
       "    .dataframe thead tr:only-child th {\n",
       "        text-align: right;\n",
       "    }\n",
       "\n",
       "    .dataframe thead th {\n",
       "        text-align: left;\n",
       "    }\n",
       "\n",
       "    .dataframe tbody tr th {\n",
       "        vertical-align: top;\n",
       "    }\n",
       "</style>\n",
       "<table border=\"1\" class=\"dataframe\">\n",
       "  <thead>\n",
       "    <tr style=\"text-align: right;\">\n",
       "      <th></th>\n",
       "      <th>id</th>\n",
       "      <th>ab</th>\n",
       "      <th>items_total</th>\n",
       "      <th>total_quantity</th>\n",
       "      <th>group</th>\n",
       "      <th>session</th>\n",
       "    </tr>\n",
       "  </thead>\n",
       "  <tbody>\n",
       "    <tr>\n",
       "      <th>0</th>\n",
       "      <td>-9223185178483173395</td>\n",
       "      <td>E/585971731795584869</td>\n",
       "      <td>101.98</td>\n",
       "      <td>2</td>\n",
       "      <td>E</td>\n",
       "      <td>585971731795584869</td>\n",
       "    </tr>\n",
       "    <tr>\n",
       "      <th>1</th>\n",
       "      <td>-9222261015789277132</td>\n",
       "      <td>A/-5111293127490179813</td>\n",
       "      <td>305.99</td>\n",
       "      <td>1</td>\n",
       "      <td>A</td>\n",
       "      <td>-5111293127490179813</td>\n",
       "    </tr>\n",
       "  </tbody>\n",
       "</table>\n",
       "</div>"
      ],
      "text/plain": [
       "                    id                      ab  items_total  total_quantity  \\\n",
       "0 -9223185178483173395    E/585971731795584869       101.98               2   \n",
       "1 -9222261015789277132  A/-5111293127490179813       305.99               1   \n",
       "\n",
       "  group               session  \n",
       "0     E    585971731795584869  \n",
       "1     A  -5111293127490179813  "
      ]
     },
     "execution_count": 24,
     "metadata": {},
     "output_type": "execute_result"
    }
   ],
   "source": [
    "transactions.head(2)"
   ]
  },
  {
   "cell_type": "code",
   "execution_count": 25,
   "metadata": {},
   "outputs": [
    {
     "name": "stdout",
     "output_type": "stream",
     "text": [
      "<class 'pandas.core.frame.DataFrame'>\n",
      "RangeIndex: 109194 entries, 0 to 109193\n",
      "Data columns (total 6 columns):\n",
      "id                109194 non-null int64\n",
      "ab                109194 non-null object\n",
      "items_total       109194 non-null float64\n",
      "total_quantity    109194 non-null int64\n",
      "group             109194 non-null object\n",
      "session           109194 non-null object\n",
      "dtypes: float64(1), int64(2), object(3)\n",
      "memory usage: 5.0+ MB\n"
     ]
    }
   ],
   "source": [
    "transactions.info()"
   ]
  },
  {
   "cell_type": "code",
   "execution_count": 26,
   "metadata": {},
   "outputs": [
    {
     "data": {
      "text/html": [
       "<div>\n",
       "<style>\n",
       "    .dataframe thead tr:only-child th {\n",
       "        text-align: right;\n",
       "    }\n",
       "\n",
       "    .dataframe thead th {\n",
       "        text-align: left;\n",
       "    }\n",
       "\n",
       "    .dataframe tbody tr th {\n",
       "        vertical-align: top;\n",
       "    }\n",
       "</style>\n",
       "<table border=\"1\" class=\"dataframe\">\n",
       "  <thead>\n",
       "    <tr style=\"text-align: right;\">\n",
       "      <th></th>\n",
       "      <th>id</th>\n",
       "      <th>items_id</th>\n",
       "      <th>items_price</th>\n",
       "      <th>items_quantity</th>\n",
       "      <th>items_total</th>\n",
       "    </tr>\n",
       "  </thead>\n",
       "  <tbody>\n",
       "    <tr>\n",
       "      <th>0</th>\n",
       "      <td>-8468716808217914046</td>\n",
       "      <td>-2946697713091517060</td>\n",
       "      <td>99.99</td>\n",
       "      <td>1</td>\n",
       "      <td>99.99</td>\n",
       "    </tr>\n",
       "    <tr>\n",
       "      <th>1</th>\n",
       "      <td>103257389481310034</td>\n",
       "      <td>-7444430477752553485</td>\n",
       "      <td>86.24</td>\n",
       "      <td>1</td>\n",
       "      <td>86.24</td>\n",
       "    </tr>\n",
       "  </tbody>\n",
       "</table>\n",
       "</div>"
      ],
      "text/plain": [
       "                    id             items_id  items_price  items_quantity  \\\n",
       "0 -8468716808217914046 -2946697713091517060        99.99               1   \n",
       "1   103257389481310034 -7444430477752553485        86.24               1   \n",
       "\n",
       "   items_total  \n",
       "0        99.99  \n",
       "1        86.24  "
      ]
     },
     "execution_count": 26,
     "metadata": {},
     "output_type": "execute_result"
    }
   ],
   "source": [
    "transactions_items.head(2)"
   ]
  },
  {
   "cell_type": "code",
   "execution_count": 27,
   "metadata": {},
   "outputs": [
    {
     "name": "stdout",
     "output_type": "stream",
     "text": [
      "<class 'pandas.core.frame.DataFrame'>\n",
      "RangeIndex: 179431 entries, 0 to 179430\n",
      "Data columns (total 5 columns):\n",
      "id                179431 non-null int64\n",
      "items_id          179431 non-null int64\n",
      "items_price       179431 non-null float64\n",
      "items_quantity    179431 non-null int64\n",
      "items_total       179431 non-null float64\n",
      "dtypes: float64(2), int64(3)\n",
      "memory usage: 6.8 MB\n"
     ]
    }
   ],
   "source": [
    "transactions_items.info()"
   ]
  },
  {
   "cell_type": "code",
   "execution_count": 28,
   "metadata": {},
   "outputs": [
    {
     "data": {
      "text/plain": [
       "count    109194.000000\n",
       "mean        189.652729\n",
       "std         404.528557\n",
       "min           0.950000\n",
       "25%          83.990000\n",
       "50%         134.990000\n",
       "75%         219.990000\n",
       "max       78399.950000\n",
       "Name: items_total, dtype: float64"
      ]
     },
     "execution_count": 28,
     "metadata": {},
     "output_type": "execute_result"
    }
   ],
   "source": [
    "# Checking out statistics for transaction order\n",
    "transactions['items_total'].describe()"
   ]
  },
  {
   "cell_type": "markdown",
   "metadata": {},
   "source": [
    "# Page Views schema"
   ]
  },
  {
   "cell_type": "code",
   "execution_count": null,
   "metadata": {
    "collapsed": true
   },
   "outputs": [],
   "source": [
    "{\n",
    "    'ab': 'F/-4674034584350596422', # group/session\n",
    "    'id': 8765249957191, # unique pageView id\n",
    "    'info': {\n",
    "        'browser': 'Firefox Beta 4.0 b12', # browser model\n",
    "        'browserId': -8901737309149095989, # unique browser id (think of this as a user id)\n",
    "        'geoIPLatitude': None, # latitude reported by the browser\n",
    "        'geoIPLongitude': None, # longitude reported by the browser\n",
    "        'os': 'Linux', # operating system\n",
    "        'source': 'desktop' # type of device (desktop or mobile)\n",
    "    },\n",
    "    'name': 'category', # type of page where click happened\n",
    "    'tags': [-5990677861896497487, -5075272788001827571], # special tags set by our customers for each page.\n",
    "    'timestamp': '2017-08-26 12:18:26', # event time\n",
    "    'type': 'page' # type of event\n",
    "}"
   ]
  },
  {
   "cell_type": "markdown",
   "metadata": {},
   "source": [
    "# it is being created a new data frame for holding visitor data. It was considered the feature session. "
   ]
  },
  {
   "cell_type": "code",
   "execution_count": 29,
   "metadata": {
    "collapsed": true
   },
   "outputs": [],
   "source": [
    "#visitors = pageviews[['session','info_browserId','info_browser','info_os','info_source','timestamp']][:]\n",
    "#visitors = pageviews[['session','info_browserId','timestamp']][:]\n",
    "#visitors = pageviews[['group','session','timestamp']][:]\n",
    "visitors = pageviews[['group','session','info_browserId','info_browser','info_os','info_source']][:]\n",
    "#visitors['date'] = visitors['timestamp'].apply(lambda x: x[:10])\n",
    "#del visitors['timestamp']\n",
    "\n",
    "def first_word(string):\n",
    "    pos = string.find(' ')\n",
    "    if pos>=0:\n",
    "        return string[:pos]\n",
    "    else:\n",
    "        return string\n",
    "\n",
    "visitors['os'] = visitors['info_os'].apply(first_word)\n",
    "visitors['browser'] = visitors['info_browser'].apply(first_word)\n",
    "\n",
    "visitors = visitors.drop_duplicates()"
   ]
  },
  {
   "cell_type": "code",
   "execution_count": 34,
   "metadata": {},
   "outputs": [
    {
     "name": "stdout",
     "output_type": "stream",
     "text": [
      "There 30367518 rows in page views and 3845964 rows in the visitors, using unique visitors by day\n",
      "Therefore, we've got 7.9 pageviews by visitor\n",
      "The number of visitors above should be 3727520 but there is something wrong in the data \n"
     ]
    }
   ],
   "source": [
    "print (\"There {} rows in page views and {} rows in the visitors, using unique visitors by day\".format(len(pageviews),len(visitors))) \n",
    "print (\"Therefore, we've got {} pageviews by visitor\".format(round(len(pageviews)/len(visitors),2)))\n",
    "print (\"The number of visitors above should be {} but there is something wrong in the data \".format(len(pageviews.session.unique())))"
   ]
  },
  {
   "cell_type": "code",
   "execution_count": 35,
   "metadata": {},
   "outputs": [
    {
     "data": {
      "text/html": [
       "<div>\n",
       "<style>\n",
       "    .dataframe thead tr:only-child th {\n",
       "        text-align: right;\n",
       "    }\n",
       "\n",
       "    .dataframe thead th {\n",
       "        text-align: left;\n",
       "    }\n",
       "\n",
       "    .dataframe tbody tr th {\n",
       "        vertical-align: top;\n",
       "    }\n",
       "</style>\n",
       "<table border=\"1\" class=\"dataframe\">\n",
       "  <thead>\n",
       "    <tr style=\"text-align: right;\">\n",
       "      <th></th>\n",
       "      <th>group</th>\n",
       "      <th>session</th>\n",
       "      <th>info_browserId</th>\n",
       "      <th>info_browser</th>\n",
       "      <th>info_os</th>\n",
       "      <th>info_source</th>\n",
       "      <th>os</th>\n",
       "      <th>browser</th>\n",
       "    </tr>\n",
       "  </thead>\n",
       "  <tbody>\n",
       "    <tr>\n",
       "      <th>0</th>\n",
       "      <td>F</td>\n",
       "      <td>-4674034584350596422</td>\n",
       "      <td>-8901737309149095989</td>\n",
       "      <td>Firefox Beta 4.0 b12</td>\n",
       "      <td>Linux</td>\n",
       "      <td>desktop</td>\n",
       "      <td>Linux</td>\n",
       "      <td>Firefox</td>\n",
       "    </tr>\n",
       "    <tr>\n",
       "      <th>1</th>\n",
       "      <td>F</td>\n",
       "      <td>-3370818432877482132</td>\n",
       "      <td>-6952411218239337506</td>\n",
       "      <td>Chrome Mobile 59.0.3071</td>\n",
       "      <td>Android 5.1.1</td>\n",
       "      <td>mobile</td>\n",
       "      <td>Android</td>\n",
       "      <td>Chrome</td>\n",
       "    </tr>\n",
       "    <tr>\n",
       "      <th>2</th>\n",
       "      <td>H</td>\n",
       "      <td>-6833017977536873480</td>\n",
       "      <td>-7304148636562131161</td>\n",
       "      <td>Chrome Mobile 60.0.3112</td>\n",
       "      <td>Android 6.0</td>\n",
       "      <td>mobile</td>\n",
       "      <td>Android</td>\n",
       "      <td>Chrome</td>\n",
       "    </tr>\n",
       "    <tr>\n",
       "      <th>3</th>\n",
       "      <td>G</td>\n",
       "      <td>-5201470044805936293</td>\n",
       "      <td>-5836905034004402498</td>\n",
       "      <td>Chrome 60.0.3112</td>\n",
       "      <td>Windows 8</td>\n",
       "      <td>desktop</td>\n",
       "      <td>Windows</td>\n",
       "      <td>Chrome</td>\n",
       "    </tr>\n",
       "    <tr>\n",
       "      <th>4</th>\n",
       "      <td>E</td>\n",
       "      <td>-2183580581788687574</td>\n",
       "      <td>7440345113969891771</td>\n",
       "      <td>Chrome Mobile 60.0.3112</td>\n",
       "      <td>Android 6.0</td>\n",
       "      <td>mobile</td>\n",
       "      <td>Android</td>\n",
       "      <td>Chrome</td>\n",
       "    </tr>\n",
       "  </tbody>\n",
       "</table>\n",
       "</div>"
      ],
      "text/plain": [
       "  group               session       info_browserId             info_browser  \\\n",
       "0     F  -4674034584350596422 -8901737309149095989     Firefox Beta 4.0 b12   \n",
       "1     F  -3370818432877482132 -6952411218239337506  Chrome Mobile 59.0.3071   \n",
       "2     H  -6833017977536873480 -7304148636562131161  Chrome Mobile 60.0.3112   \n",
       "3     G  -5201470044805936293 -5836905034004402498         Chrome 60.0.3112   \n",
       "4     E  -2183580581788687574  7440345113969891771  Chrome Mobile 60.0.3112   \n",
       "\n",
       "         info_os info_source       os  browser  \n",
       "0          Linux     desktop    Linux  Firefox  \n",
       "1  Android 5.1.1      mobile  Android   Chrome  \n",
       "2    Android 6.0      mobile  Android   Chrome  \n",
       "3      Windows 8     desktop  Windows   Chrome  \n",
       "4    Android 6.0      mobile  Android   Chrome  "
      ]
     },
     "execution_count": 35,
     "metadata": {},
     "output_type": "execute_result"
    }
   ],
   "source": [
    "visitors.head(5)"
   ]
  },
  {
   "cell_type": "code",
   "execution_count": 32,
   "metadata": {
    "collapsed": true
   },
   "outputs": [],
   "source": [
    "first_date_pageviews = pageviews['timestamp'].min()\n",
    "last_date_pageviews = pageviews['timestamp'].max()"
   ]
  },
  {
   "cell_type": "code",
   "execution_count": 33,
   "metadata": {},
   "outputs": [
    {
     "name": "stdout",
     "output_type": "stream",
     "text": [
      "first_date_pageviews 2017-08-26 00:00:00\n",
      "last_date_pageviews 2017-09-18 12:00:10\n"
     ]
    }
   ],
   "source": [
    "print (\"first_date_pageviews\", first_date_pageviews)\n",
    "print (\"last_date_pageviews\", last_date_pageviews)"
   ]
  },
  {
   "cell_type": "markdown",
   "metadata": {},
   "source": [
    "# Check out missing values"
   ]
  },
  {
   "cell_type": "code",
   "execution_count": 36,
   "metadata": {},
   "outputs": [
    {
     "name": "stdout",
     "output_type": "stream",
     "text": [
      "In total, there are 0 variables with missing values\n",
      "In total, there are 0 variables with missing values\n",
      "In total, there are 0 variables with missing values\n",
      "In total, there are 0 variables with missing values\n"
     ]
    }
   ],
   "source": [
    "vars_with_missing = []\n",
    "\n",
    "for f in impressions.columns:\n",
    "    missings = impressions[impressions[f] == -1][f].count()\n",
    "    if missings > 0:\n",
    "        vars_with_missing.append(f)\n",
    "        missings_perc = missings/impressions.shape[0]\n",
    "        \n",
    "        print('Variable {} has {} records ({:.2%}) with missing values'.format(f, missings, missings_perc))\n",
    "        \n",
    "print('In total, there are {} variables with missing values'.format(len(vars_with_missing)))\n",
    "\n",
    "vars_with_missing = []\n",
    "\n",
    "for f in pageviews.columns:\n",
    "    missings = pageviews[pageviews[f] == -1][f].count()\n",
    "    if missings > 0:\n",
    "        vars_with_missing.append(f)\n",
    "        missings_perc = missings/pageviews.shape[0]\n",
    "        \n",
    "        print('Variable {} has {} records ({:.2%}) with missing values'.format(f, missings, missings_perc))\n",
    "        \n",
    "print('In total, there are {} variables with missing values'.format(len(vars_with_missing)))\n",
    "\n",
    "vars_with_missing = []\n",
    "\n",
    "for f in transactions.columns:\n",
    "    missings = transactions[transactions[f] == -1][f].count()\n",
    "    if missings > 0:\n",
    "        vars_with_missing.append(f)\n",
    "        missings_perc = missings/transactions.shape[0]\n",
    "        \n",
    "        print('Variable {} has {} records ({:.2%}) with missing values'.format(f, missings, missings_perc))\n",
    "        \n",
    "print('In total, there are {} variables with missing values'.format(len(vars_with_missing)))\n",
    "\n",
    "for f in clicks.columns:\n",
    "    missings = clicks[clicks[f] == -1][f].count()\n",
    "    if missings > 0:\n",
    "        vars_with_missing.append(f)\n",
    "        missings_perc = missings/clicks.shape[0]\n",
    "        \n",
    "        print('Variable {} has {} records ({:.2%}) with missing values'.format(f, missings, missings_perc))\n",
    "        \n",
    "print('In total, there are {} variables with missing values'.format(len(vars_with_missing)))"
   ]
  },
  {
   "cell_type": "markdown",
   "metadata": {},
   "source": [
    "# Check out distinct data values"
   ]
  },
  {
   "cell_type": "code",
   "execution_count": 37,
   "metadata": {},
   "outputs": [
    {
     "name": "stdout",
     "output_type": "stream",
     "text": [
      "pageviews - Variable info_source has 2 distinct values\n",
      "pageviews - Variable name has 9 distinct values\n",
      "pageviews - Variable type has 1 distinct values\n",
      "impressions - Variable algRef has 12 distinct values\n",
      "impressions - Variable feature has 12 distinct values\n",
      "impressions - Variable page has 7 distinct values\n",
      "impressions - Variable type has 1 distinct values\n"
     ]
    }
   ],
   "source": [
    "v = ['info_source','name','type']\n",
    "\n",
    "for f in v:\n",
    "    dist_values = pageviews[f].value_counts().shape[0]\n",
    "    print('pageviews - Variable {} has {} distinct values'.format(f, dist_values))\n",
    "    \n",
    "v = ['algRef','feature','page','type']\n",
    "\n",
    "for f in v:\n",
    "    dist_values = impressions[f].value_counts().shape[0]\n",
    "    print('impressions - Variable {} has {} distinct values'.format(f, dist_values))\n"
   ]
  },
  {
   "cell_type": "code",
   "execution_count": 41,
   "metadata": {},
   "outputs": [
    {
     "name": "stdout",
     "output_type": "stream",
     "text": [
      "Revenue per visitor = $5.38\n",
      "Conversion = transactions / visitors = 0.03\n",
      "Average order value (AOV) = revenue / transactions = $189.65\n",
      "\n",
      "Total of revenue $20,708,940.06\n",
      "number_of_pageviews 30,367,518.00 \n",
      "number_of_impressions 25,798,767.00 \n",
      "number_of_visitors 3,845,964.00 \n",
      "number_of_clicks 1,183,002.00 \n",
      "number_of_transactions 109,194.00 \n"
     ]
    }
   ],
   "source": [
    "'''\n",
    "Revenue per visitor = revenue / visitors\n",
    "Conversion = transactions / visitors\n",
    "Average order value (AOV) = revenue / transactions\n",
    "'''\n",
    "number_of_clicks = len(clicks)\n",
    "number_of_pageviews = len(pageviews)\n",
    "number_of_visitors = len(visitors)\n",
    "number_of_impressions = len(impressions)\n",
    "number_of_transactions = len(transactions)\n",
    "revenue = transactions['items_total'].sum()\n",
    "\n",
    "print (\"Revenue per visitor = ${:,.2f}\".format(revenue / number_of_visitors))\n",
    "print (\"Conversion = transactions / visitors = {:,.2f}\".format(number_of_transactions / number_of_visitors))\n",
    "print (\"Average order value (AOV) = revenue / transactions = ${:,.2f}\".format(revenue / number_of_transactions))\n",
    "\n",
    "print()\n",
    "print(\"Total of revenue ${:,.2f}\".format(revenue))\n",
    "print(\"number_of_pageviews {:,.2f} \".format(number_of_pageviews))\n",
    "print(\"number_of_impressions {:,.2f} \".format(number_of_impressions))\n",
    "print(\"number_of_visitors {:,.2f} \".format(number_of_visitors))\n",
    "print(\"number_of_clicks {:,.2f} \".format(number_of_clicks))\n",
    "print(\"number_of_transactions {:,.2f} \".format(number_of_transactions))"
   ]
  },
  {
   "cell_type": "code",
   "execution_count": 43,
   "metadata": {
    "collapsed": true
   },
   "outputs": [],
   "source": [
    "impressions_by_group = pd.DataFrame(impressions.groupby(['group'])['session'].count())\n",
    "impressions_by_group.columns.values[0] = 'impressions'\n",
    "\n",
    "clicks_by_group = pd.DataFrame(clicks.groupby(['group'])['session'].count())\n",
    "clicks_by_group.columns.values[0] = 'clicks'\n",
    "\n",
    "transactions_by_group = pd.DataFrame(transactions.groupby(['group'])['session'].count())\n",
    "transactions_by_group.columns.values[0] = 'transactions'\n",
    "\n",
    "quantity_by_group = pd.DataFrame(transactions.groupby(['group'])['total_quantity'].sum())\n",
    "quantity_by_group.columns.values[0] = 'quantity'\n",
    "\n",
    "revenue_by_group = pd.DataFrame(transactions.groupby(['group'])['items_total'].sum())\n",
    "revenue_by_group.columns.values[0] = 'revenue'\n",
    "\n",
    "visitors_by_group = pd.DataFrame(visitors.groupby(['group'])['session'].count())\n",
    "visitors_by_group.columns.values[0] = 'visits'\n",
    "\n",
    "funnel_by_group = impressions_by_group.join(visitors_by_group).join(clicks_by_group).join(transactions_by_group).join(quantity_by_group).join(revenue_by_group)\n",
    "funnel_by_group['CTR'] = funnel_by_group['clicks']/funnel_by_group['impressions']\n",
    "funnel_by_group['Conversion'] = funnel_by_group['transactions']/funnel_by_group['visits']\n",
    "funnel_by_group['Quantity by Transaction'] = funnel_by_group['quantity']/funnel_by_group['transactions']\n",
    "\n",
    "funnel_by_group['AOV'] = funnel_by_group['revenue']/funnel_by_group['transactions']\n",
    "funnel_by_group['Revenue by visits'] = funnel_by_group['revenue']/funnel_by_group['visits']\n",
    "\n",
    "\n",
    "funnel_by_group = funnel_by_group.sort_values(by='CTR', ascending=False)"
   ]
  },
  {
   "cell_type": "code",
   "execution_count": 44,
   "metadata": {},
   "outputs": [
    {
     "data": {
      "text/html": [
       "<div>\n",
       "<style>\n",
       "    .dataframe thead tr:only-child th {\n",
       "        text-align: right;\n",
       "    }\n",
       "\n",
       "    .dataframe thead th {\n",
       "        text-align: left;\n",
       "    }\n",
       "\n",
       "    .dataframe tbody tr th {\n",
       "        vertical-align: top;\n",
       "    }\n",
       "</style>\n",
       "<table border=\"1\" class=\"dataframe\">\n",
       "  <thead>\n",
       "    <tr style=\"text-align: right;\">\n",
       "      <th></th>\n",
       "      <th>impressions</th>\n",
       "      <th>visits</th>\n",
       "      <th>clicks</th>\n",
       "      <th>transactions</th>\n",
       "      <th>quantity</th>\n",
       "      <th>revenue</th>\n",
       "      <th>CTR</th>\n",
       "      <th>Conversion</th>\n",
       "      <th>Quantity by Transaction</th>\n",
       "      <th>AOV</th>\n",
       "      <th>Revenue by visits</th>\n",
       "    </tr>\n",
       "    <tr>\n",
       "      <th>group</th>\n",
       "      <th></th>\n",
       "      <th></th>\n",
       "      <th></th>\n",
       "      <th></th>\n",
       "      <th></th>\n",
       "      <th></th>\n",
       "      <th></th>\n",
       "      <th></th>\n",
       "      <th></th>\n",
       "      <th></th>\n",
       "      <th></th>\n",
       "    </tr>\n",
       "  </thead>\n",
       "  <tbody>\n",
       "    <tr>\n",
       "      <th>A</th>\n",
       "      <td>3157151</td>\n",
       "      <td>480847</td>\n",
       "      <td>149664</td>\n",
       "      <td>13703</td>\n",
       "      <td>22280</td>\n",
       "      <td>2565705.21</td>\n",
       "      <td>0.047405</td>\n",
       "      <td>0.028498</td>\n",
       "      <td>1.625921</td>\n",
       "      <td>187.236752</td>\n",
       "      <td>5.335804</td>\n",
       "    </tr>\n",
       "    <tr>\n",
       "      <th>B</th>\n",
       "      <td>3167199</td>\n",
       "      <td>481575</td>\n",
       "      <td>149936</td>\n",
       "      <td>13562</td>\n",
       "      <td>22412</td>\n",
       "      <td>2461017.10</td>\n",
       "      <td>0.047340</td>\n",
       "      <td>0.028162</td>\n",
       "      <td>1.652559</td>\n",
       "      <td>181.464172</td>\n",
       "      <td>5.110351</td>\n",
       "    </tr>\n",
       "    <tr>\n",
       "      <th>E</th>\n",
       "      <td>3233634</td>\n",
       "      <td>481743</td>\n",
       "      <td>148761</td>\n",
       "      <td>14001</td>\n",
       "      <td>23251</td>\n",
       "      <td>2765632.60</td>\n",
       "      <td>0.046004</td>\n",
       "      <td>0.029063</td>\n",
       "      <td>1.660667</td>\n",
       "      <td>197.531076</td>\n",
       "      <td>5.740888</td>\n",
       "    </tr>\n",
       "    <tr>\n",
       "      <th>F</th>\n",
       "      <td>3180758</td>\n",
       "      <td>480508</td>\n",
       "      <td>145964</td>\n",
       "      <td>13305</td>\n",
       "      <td>21554</td>\n",
       "      <td>2588891.64</td>\n",
       "      <td>0.045890</td>\n",
       "      <td>0.027689</td>\n",
       "      <td>1.619992</td>\n",
       "      <td>194.580356</td>\n",
       "      <td>5.387822</td>\n",
       "    </tr>\n",
       "    <tr>\n",
       "      <th>G</th>\n",
       "      <td>3235507</td>\n",
       "      <td>480727</td>\n",
       "      <td>146324</td>\n",
       "      <td>12982</td>\n",
       "      <td>21316</td>\n",
       "      <td>2381157.67</td>\n",
       "      <td>0.045224</td>\n",
       "      <td>0.027005</td>\n",
       "      <td>1.641966</td>\n",
       "      <td>183.419941</td>\n",
       "      <td>4.953243</td>\n",
       "    </tr>\n",
       "    <tr>\n",
       "      <th>C</th>\n",
       "      <td>3293588</td>\n",
       "      <td>479970</td>\n",
       "      <td>148723</td>\n",
       "      <td>13558</td>\n",
       "      <td>22245</td>\n",
       "      <td>2665391.63</td>\n",
       "      <td>0.045155</td>\n",
       "      <td>0.028248</td>\n",
       "      <td>1.640729</td>\n",
       "      <td>196.591800</td>\n",
       "      <td>5.553246</td>\n",
       "    </tr>\n",
       "    <tr>\n",
       "      <th>D</th>\n",
       "      <td>3271689</td>\n",
       "      <td>480703</td>\n",
       "      <td>147253</td>\n",
       "      <td>14000</td>\n",
       "      <td>22992</td>\n",
       "      <td>2628788.12</td>\n",
       "      <td>0.045008</td>\n",
       "      <td>0.029124</td>\n",
       "      <td>1.642286</td>\n",
       "      <td>187.770580</td>\n",
       "      <td>5.468633</td>\n",
       "    </tr>\n",
       "    <tr>\n",
       "      <th>H</th>\n",
       "      <td>3259241</td>\n",
       "      <td>479891</td>\n",
       "      <td>146377</td>\n",
       "      <td>14083</td>\n",
       "      <td>23381</td>\n",
       "      <td>2652356.09</td>\n",
       "      <td>0.044911</td>\n",
       "      <td>0.029346</td>\n",
       "      <td>1.660229</td>\n",
       "      <td>188.337434</td>\n",
       "      <td>5.526997</td>\n",
       "    </tr>\n",
       "  </tbody>\n",
       "</table>\n",
       "</div>"
      ],
      "text/plain": [
       "       impressions  visits  clicks  transactions  quantity     revenue  \\\n",
       "group                                                                    \n",
       "A          3157151  480847  149664         13703     22280  2565705.21   \n",
       "B          3167199  481575  149936         13562     22412  2461017.10   \n",
       "E          3233634  481743  148761         14001     23251  2765632.60   \n",
       "F          3180758  480508  145964         13305     21554  2588891.64   \n",
       "G          3235507  480727  146324         12982     21316  2381157.67   \n",
       "C          3293588  479970  148723         13558     22245  2665391.63   \n",
       "D          3271689  480703  147253         14000     22992  2628788.12   \n",
       "H          3259241  479891  146377         14083     23381  2652356.09   \n",
       "\n",
       "            CTR  Conversion  Quantity by Transaction         AOV  \\\n",
       "group                                                              \n",
       "A      0.047405    0.028498                 1.625921  187.236752   \n",
       "B      0.047340    0.028162                 1.652559  181.464172   \n",
       "E      0.046004    0.029063                 1.660667  197.531076   \n",
       "F      0.045890    0.027689                 1.619992  194.580356   \n",
       "G      0.045224    0.027005                 1.641966  183.419941   \n",
       "C      0.045155    0.028248                 1.640729  196.591800   \n",
       "D      0.045008    0.029124                 1.642286  187.770580   \n",
       "H      0.044911    0.029346                 1.660229  188.337434   \n",
       "\n",
       "       Revenue by visits  \n",
       "group                     \n",
       "A               5.335804  \n",
       "B               5.110351  \n",
       "E               5.740888  \n",
       "F               5.387822  \n",
       "G               4.953243  \n",
       "C               5.553246  \n",
       "D               5.468633  \n",
       "H               5.526997  "
      ]
     },
     "execution_count": 44,
     "metadata": {},
     "output_type": "execute_result"
    }
   ],
   "source": [
    "funnel_by_group"
   ]
  },
  {
   "cell_type": "code",
   "execution_count": 45,
   "metadata": {},
   "outputs": [
    {
     "data": {
      "text/html": [
       "<div>\n",
       "<style>\n",
       "    .dataframe thead tr:only-child th {\n",
       "        text-align: right;\n",
       "    }\n",
       "\n",
       "    .dataframe thead th {\n",
       "        text-align: left;\n",
       "    }\n",
       "\n",
       "    .dataframe tbody tr th {\n",
       "        vertical-align: top;\n",
       "    }\n",
       "</style>\n",
       "<table border=\"1\" class=\"dataframe\">\n",
       "  <thead>\n",
       "    <tr style=\"text-align: right;\">\n",
       "      <th></th>\n",
       "      <th>impressions</th>\n",
       "    </tr>\n",
       "    <tr>\n",
       "      <th>algRef</th>\n",
       "      <th></th>\n",
       "    </tr>\n",
       "  </thead>\n",
       "  <tbody>\n",
       "    <tr>\n",
       "      <th>5321418768591000592</th>\n",
       "      <td>7720606</td>\n",
       "    </tr>\n",
       "    <tr>\n",
       "      <th>8765249957191</th>\n",
       "      <td>7139996</td>\n",
       "    </tr>\n",
       "    <tr>\n",
       "      <th>-7316380623456322413</th>\n",
       "      <td>6364701</td>\n",
       "    </tr>\n",
       "    <tr>\n",
       "      <th>-4036572744233045313</th>\n",
       "      <td>3228956</td>\n",
       "    </tr>\n",
       "    <tr>\n",
       "      <th>-8097938104232819077</th>\n",
       "      <td>597978</td>\n",
       "    </tr>\n",
       "    <tr>\n",
       "      <th>6210645274200748928</th>\n",
       "      <td>219459</td>\n",
       "    </tr>\n",
       "    <tr>\n",
       "      <th>-2694931237408746828</th>\n",
       "      <td>199717</td>\n",
       "    </tr>\n",
       "    <tr>\n",
       "      <th>8912499131073959470</th>\n",
       "      <td>166706</td>\n",
       "    </tr>\n",
       "    <tr>\n",
       "      <th>-5699424829365636926</th>\n",
       "      <td>157505</td>\n",
       "    </tr>\n",
       "    <tr>\n",
       "      <th>1253328222863831340</th>\n",
       "      <td>2729</td>\n",
       "    </tr>\n",
       "    <tr>\n",
       "      <th>-2088053587104646233</th>\n",
       "      <td>410</td>\n",
       "    </tr>\n",
       "    <tr>\n",
       "      <th>303635124662084886</th>\n",
       "      <td>4</td>\n",
       "    </tr>\n",
       "  </tbody>\n",
       "</table>\n",
       "</div>"
      ],
      "text/plain": [
       "                      impressions\n",
       "algRef                           \n",
       " 5321418768591000592      7720606\n",
       " 8765249957191            7139996\n",
       "-7316380623456322413      6364701\n",
       "-4036572744233045313      3228956\n",
       "-8097938104232819077       597978\n",
       " 6210645274200748928       219459\n",
       "-2694931237408746828       199717\n",
       " 8912499131073959470       166706\n",
       "-5699424829365636926       157505\n",
       " 1253328222863831340         2729\n",
       "-2088053587104646233          410\n",
       " 303635124662084886             4"
      ]
     },
     "execution_count": 45,
     "metadata": {},
     "output_type": "execute_result"
    }
   ],
   "source": [
    "impressions_by_algRef = pd.DataFrame(impressions.groupby(['algRef'])['session'].count())\n",
    "impressions_by_algRef.columns.values[0] = 'impressions'\n",
    "impressions_by_algRef = impressions_by_algRef.sort_values(by='impressions', ascending=False)\n",
    "impressions_by_algRef"
   ]
  },
  {
   "cell_type": "markdown",
   "metadata": {},
   "source": [
    "I was not able to track how many clicks it got from each algorithm because the feature 'id' on impressions is not a unique value like it is reported on https://github.com/chaordic/machinelearning-challenge/blob/master/dswa-challenge.ipynb. Therefore it is not possible to join impressions feature 'id' and clicks feature 'vrlId'. Other features not unique are bellow:"
   ]
  },
  {
   "cell_type": "code",
   "execution_count": 46,
   "metadata": {},
   "outputs": [
    {
     "name": "stdout",
     "output_type": "stream",
     "text": [
      "The feature 'id' is not unique on pagaviews 1\n",
      "The feature 'id' is not unique on impressions 1\n",
      "The feature 'id' is not unique on clicks 1\n",
      "I would use the feature 'vrlId' on clicks to join with its respective impression, but the feature 'id' on impression is not unique 1078648\n"
     ]
    }
   ],
   "source": [
    "print (\"The feature 'id' is not unique on pagaviews\",len(pageviews.id.unique()))\n",
    "print (\"The feature 'id' is not unique on impressions\",len(impressions.id.unique()))\n",
    "print (\"The feature 'id' is not unique on clicks\",len(clicks.id.unique()))\n",
    "print (\"I would use the feature 'vrlId' on clicks to join with its respective impression, but the feature 'id' on impression is not unique\",len(clicks.vrlId.unique()))"
   ]
  },
  {
   "cell_type": "markdown",
   "metadata": {},
   "source": [
    "# Plot data"
   ]
  },
  {
   "cell_type": "code",
   "execution_count": 47,
   "metadata": {
    "collapsed": true
   },
   "outputs": [],
   "source": [
    "def plot_barchat(x,y,bar_type,y_label,title):\n",
    "\n",
    "    y_pos = np.arange(len(x))\n",
    " \n",
    "    if bar_type==\"v\":\n",
    "        plt.bar(y_pos, y, align='center', alpha=0.5)\n",
    "        plt.xticks(y_pos, x)\n",
    "    else:\n",
    "        plt.barh(y_pos, y, align='center', alpha=0.5)\n",
    "        plt.yticks(y_pos, x)\n",
    "\n",
    "    plt.ylabel(y_label)\n",
    "    plt.title(title)\n",
    "    plt.show()"
   ]
  },
  {
   "cell_type": "markdown",
   "metadata": {},
   "source": [
    "# Sessions"
   ]
  },
  {
   "cell_type": "code",
   "execution_count": 48,
   "metadata": {},
   "outputs": [
    {
     "data": {
      "image/png": "[encoded data removed]",
      "text/plain": [
       "<matplotlib.figure.Figure at 0x20ab419160>"
      ]
     },
     "metadata": {},
     "output_type": "display_data"
    },
    {
     "data": {
      "image/png": "[encoded data removed]",
      "text/plain": [
       "<matplotlib.figure.Figure at 0x20ab4df828>"
      ]
     },
     "metadata": {},
     "output_type": "display_data"
    },
    {
     "data": {
      "image/png": "[encoded data removed]",
      "text/plain": [
       "<matplotlib.figure.Figure at 0x20ab4df9b0>"
      ]
     },
     "metadata": {},
     "output_type": "display_data"
    }
   ],
   "source": [
    "visitors_by = pd.DataFrame(visitors.groupby(['info_source'])['info_source'].count())\n",
    "visitors_by = visitors_by.sort_values(by='info_source', ascending=False)\n",
    "x_plot = list(visitors_by.index)\n",
    "y_plot = list(visitors_by['info_source'])\n",
    "plot_barchat(x_plot,y_plot,'v','Sessions','Sessions by source')\n",
    "\n",
    "visitors_by = pd.DataFrame(visitors.groupby(['os'])['os'].count().nlargest(5))\n",
    "visitors_by = visitors_by.sort_values(by='os', ascending=True)\n",
    "x_plot = list(visitors_by.index)\n",
    "y_plot = list(visitors_by['os'])\n",
    "plot_barchat(x_plot,y_plot,'h','Sessions','Sessions by O.S')\n",
    "\n",
    "visitors_by = pd.DataFrame(visitors.groupby(['browser'])['browser'].count().nlargest(5))\n",
    "visitors_by = visitors_by.sort_values(by='browser', ascending=True)\n",
    "x_plot = list(visitors_by.index)\n",
    "y_plot = list(visitors_by['browser'])\n",
    "plot_barchat(x_plot,y_plot,'h','Sessions','Sessions by Browser')"
   ]
  },
  {
   "cell_type": "markdown",
   "metadata": {},
   "source": [
    "# Funnel"
   ]
  },
  {
   "cell_type": "code",
   "execution_count": 49,
   "metadata": {},
   "outputs": [
    {
     "data": {
      "image/png": "[encoded data removed]",
      "text/plain": [
       "<matplotlib.figure.Figure at 0x20ab419b70>"
      ]
     },
     "metadata": {},
     "output_type": "display_data"
    },
    {
     "data": {
      "image/png": "[encoded data removed]",
      "text/plain": [
       "<matplotlib.figure.Figure at 0x1cd6c5f4e0>"
      ]
     },
     "metadata": {},
     "output_type": "display_data"
    },
    {
     "data": {
      "image/png": "[encoded data removed]",
      "text/plain": [
       "<matplotlib.figure.Figure at 0x20ab310f98>"
      ]
     },
     "metadata": {},
     "output_type": "display_data"
    }
   ],
   "source": [
    "funnel_by_group = funnel_by_group.sort_values(by='CTR', ascending=True)\n",
    "x_plot = funnel_by_group.index\n",
    "y_plot = funnel_by_group['CTR']\n",
    "plot_barchat(x_plot,y_plot,'v','CTR','Click through rate by Group')\n",
    "\n",
    "funnel_by_group = funnel_by_group.sort_values(by='Conversion', ascending=True)\n",
    "x_plot = funnel_by_group.index\n",
    "y_plot = funnel_by_group['Conversion']\n",
    "plot_barchat(x_plot,y_plot,'v','Conversion','Conversion by Group')\n",
    "\n",
    "funnel_by_group = funnel_by_group.sort_values(by='AOV', ascending=True)\n",
    "x_plot = funnel_by_group.index\n",
    "y_plot = funnel_by_group['AOV']\n",
    "plot_barchat(x_plot,y_plot,'v','AOV','AOV by Group')"
   ]
  },
  {
   "cell_type": "code",
   "execution_count": 50,
   "metadata": {},
   "outputs": [
    {
     "data": {
      "image/png": "[encoded data removed]",
      "text/plain": [
       "<matplotlib.figure.Figure at 0x20ab41a518>"
      ]
     },
     "metadata": {},
     "output_type": "display_data"
    },
    {
     "name": "stdout",
     "output_type": "stream",
     "text": [
      "I could not figure out how many clicks a algorithm got because I did not find a link between both observations.\n",
      "If I had found a feature in order to relate impressions and clicks, I would have done a better algorithm evaluation through CTR\n"
     ]
    }
   ],
   "source": [
    "impressions_by_algRef = impressions_by_algRef.sort_values(by='impressions', ascending=True)\n",
    "x_plot = impressions_by_algRef.index\n",
    "y_plot = impressions_by_algRef['impressions']\n",
    "plot_barchat(x_plot,y_plot,'h','Impressions','Impressions by Algorithm')\n",
    "print(\"I could not figure out how many clicks a algorithm got because I did not find a link between both observations.\")\n",
    "print(\"If I had found a feature in order to relate impressions and clicks, I would have done a better algorithm evaluation through CTR\")"
   ]
  },
  {
   "cell_type": "markdown",
   "metadata": {},
   "source": [
    "# Best seller products "
   ]
  },
  {
   "cell_type": "code",
   "execution_count": 51,
   "metadata": {},
   "outputs": [
    {
     "data": {
      "image/png": "[encoded data removed]",
      "text/plain": [
       "<matplotlib.figure.Figure at 0x20ab13c2e8>"
      ]
     },
     "metadata": {},
     "output_type": "display_data"
    },
    {
     "data": {
      "image/png": "[encoded data removed]",
      "text/plain": [
       "<matplotlib.figure.Figure at 0x20ab0fdd30>"
      ]
     },
     "metadata": {},
     "output_type": "display_data"
    }
   ],
   "source": [
    "transactions_by = pd.DataFrame(transactions_items.groupby(['items_id'])['items_quantity'].sum().nlargest(10))\n",
    "transactions_by = transactions_by.sort_values(by='items_quantity', ascending=True)\n",
    "x_plot = list(transactions_by.index)\n",
    "y_plot = list(transactions_by['items_quantity'])\n",
    "plot_barchat(x_plot,y_plot,'h','Quantity','Top 10 Quantity by Product')\n",
    "\n",
    "transactions_by = pd.DataFrame(transactions_items.groupby(['items_id'])['items_total'].sum().nlargest(10))\n",
    "transactions_by = transactions_by.sort_values(by='items_total', ascending=True)\n",
    "x_plot = list(transactions_by.index)\n",
    "y_plot = list(transactions_by['items_total'])\n",
    "plot_barchat(x_plot,y_plot,'h','Revenue','Top 10 Revenue by Product')"
   ]
  },
  {
   "cell_type": "markdown",
   "metadata": {},
   "source": [
    "# Product with more impressions"
   ]
  },
  {
   "cell_type": "code",
   "execution_count": 52,
   "metadata": {},
   "outputs": [
    {
     "data": {
      "image/png": "[encoded data removed]",
      "text/plain": [
       "<matplotlib.figure.Figure at 0x20ab14f278>"
      ]
     },
     "metadata": {},
     "output_type": "display_data"
    }
   ],
   "source": [
    "impressions_by = pd.DataFrame(impressions_products.groupby(['products'])['products'].count().nlargest(10))\n",
    "impressions_by = impressions_by.sort_values(by='products', ascending=True)\n",
    "x_plot = list(impressions_by.index)\n",
    "y_plot = list(impressions_by['products'])\n",
    "plot_barchat(x_plot,y_plot,'h','Impressions','Top 10 impressions by Product')"
   ]
  },
  {
   "cell_type": "markdown",
   "metadata": {},
   "source": [
    "# Map"
   ]
  },
  {
   "cell_type": "code",
   "execution_count": null,
   "metadata": {
    "collapsed": true
   },
   "outputs": [],
   "source": []
  },
  {
   "cell_type": "code",
   "execution_count": null,
   "metadata": {
    "collapsed": true
   },
   "outputs": [],
   "source": []
  }
 ],
 "metadata": {
  "kernelspec": {
   "display_name": "Python 3",
   "language": "python",
   "name": "python3"
  },
  "language_info": {
   "codemirror_mode": {
    "name": "ipython",
    "version": 3
   },
   "file_extension": ".py",
   "mimetype": "text/x-python",
   "name": "python",
   "nbconvert_exporter": "python",
   "pygments_lexer": "ipython3",
   "version": "3.6.2"
  }
 },
 "nbformat": 4,
 "nbformat_minor": 2
}
